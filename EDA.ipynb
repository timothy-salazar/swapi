{
 "cells": [
  {
   "cell_type": "code",
   "execution_count": 1,
   "metadata": {},
   "outputs": [],
   "source": [
    "import requests\n",
    "import pandas as pd\n",
    "import numpy as np\n",
    "import matplotlib.pyplot as plt\n",
    "from scipy.stats import norm\n",
    "import os\n",
    "import re\n",
    "import time\n",
    "import json\n",
    "from src.data_analysis import web_utilities\n",
    "from src.data_analysis import df_utilities\n",
    "%matplotlib inline "
   ]
  },
  {
   "cell_type": "markdown",
   "metadata": {},
   "source": [
    "### Problem Overview\n",
    "\n",
    "As Star Wars data nerds, we have a few questions about the Universe. We don’t really like wikis, but we do\n",
    "love APIs, code, charts, and graphs!\n",
    "\n",
    "We’ve seen the Star Wars API (https://swapi.co), and its data seem useful. However, it leaves us with a few\n",
    "specific questions that we need answered in visual form:\n",
    "    1. It seems like there is quite a variety of heights in the Star Wars Universe. Show us the distribution \n",
    "    of heights across gender, homeworld, and species.\n",
    "    2. The Original Trilogy and the Prequel Trilogy both featured men in leading roles and women in supporting \n",
    "    roles, but the Sequel Trilogy features a leading woman. What is the distribution of genders across the films?\n",
    "    3. Back to our difficult-to-explain interest in heights: can you find and visualize a linear regression that\n",
    "    clearly explains the height of an individual? Using a programming language and/or framework of your choice, \n",
    "    write a program that gives us insight into these questions. We like visualizations (e.g. charts and graphs), \n",
    "    not tables or lists of numbers. If you have any other ideas, questions or insights from the data, we’d love \n",
    "    to see those as well!"
   ]
  },
  {
   "cell_type": "markdown",
   "metadata": {},
   "source": [
    "## Navigating the API\n",
    "\n",
    "There are a few different ways to access the API. The resource types are:\n",
    " - Film, People, Planets, Species, Starships, and Vehicles\n",
    "\n",
    "Film will give us information about each film (title, opening crawl, director, etc.), people will give us information about a person within the Star Wars universe (name, height, eye color, etc.), and so on. Here it makes sense to focus on the \"people\" resource - since we're being asked very \"people-centric\" questions. "
   ]
  },
  {
   "cell_type": "code",
   "execution_count": 2,
   "metadata": {},
   "outputs": [],
   "source": [
    "# url = 'http://swapi.co/api/people/'\n",
    "# a = web_utilities.get_json(url)"
   ]
  },
  {
   "cell_type": "code",
   "execution_count": 3,
   "metadata": {},
   "outputs": [],
   "source": [
    "#a.keys()"
   ]
  },
  {
   "cell_type": "code",
   "execution_count": 4,
   "metadata": {},
   "outputs": [],
   "source": [
    "# print('Next: {}'.format(a['next']), \n",
    "#       'Previous: {}'.format(a['previous']), \n",
    "#       'Count: {}'.format(a['count']), sep='\\n')"
   ]
  },
  {
   "cell_type": "code",
   "execution_count": 5,
   "metadata": {},
   "outputs": [],
   "source": [
    "#a['results']"
   ]
  },
  {
   "cell_type": "markdown",
   "metadata": {},
   "source": [
    "This is a very nice API. By making a GET request to the root \"people\" url, we are given all the information we need to request all of the \"people\" resources."
   ]
  },
  {
   "cell_type": "markdown",
   "metadata": {},
   "source": [
    "# People Attributes\n",
    "![people_attribute info](./assets/images/people_attributes.png)\n",
    "\n",
    "There are 87 people, so we can easily load all of the People data into memory. It would be nice to put these into a Pandas DataFrame, but the data will need to be wrangled a little bit first. We can drop \"url\", \"created\", and \"edited\". The \"films\", \"species\", \"starships\", and \"vehicles\" attributes are returned arrays, so we'll need to figure out some way to make these into valid columns. For \"films\" for example, we might have a column for each movie and a value of True or False for each row, indicating if the person was present or not. "
   ]
  },
  {
   "cell_type": "code",
   "execution_count": 6,
   "metadata": {},
   "outputs": [],
   "source": [
    "column_list = ['name','birth_year','eye_color','gender','hair_color',\n",
    "                'height','mass','skin_color','homeworld']"
   ]
  },
  {
   "cell_type": "code",
   "execution_count": 7,
   "metadata": {},
   "outputs": [],
   "source": [
    "#from src.data_analysis import web_utilities\n",
    "from src.data_analysis import df_utilities"
   ]
  },
  {
   "cell_type": "code",
   "execution_count": 8,
   "metadata": {},
   "outputs": [],
   "source": [
    "# results = a['results']\n",
    "# df = df_utilities.get_initial_df()\n",
    "# df = df_utilities.add_to_df(df, results)"
   ]
  },
  {
   "cell_type": "code",
   "execution_count": 9,
   "metadata": {},
   "outputs": [],
   "source": [
    "# df[df.columns[:12]].head()"
   ]
  },
  {
   "cell_type": "markdown",
   "metadata": {},
   "source": [
    "## Writing data to csv\n",
    "This takes a little while to run (because I added a delay to be courteous). I'm writing the data to a csv on my machine so that I don't have to reload it from the site over and over."
   ]
  },
  {
   "cell_type": "code",
   "execution_count": 10,
   "metadata": {},
   "outputs": [
    {
     "name": "stdout",
     "output_type": "stream",
     "text": [
      "Dataframe loaded from .csv!\n"
     ]
    }
   ],
   "source": [
    "if not os.path.exists('./assets/dataframe.csv'):\n",
    "    df = df_utilities.build_dataframe()\n",
    "    df.to_csv('./assets/dataframe.csv')\n",
    "else: \n",
    "    df = pd.read_csv('./assets/dataframe.csv', index_col = 0)\n",
    "    print(\"Dataframe loaded from .csv!\")"
   ]
  },
  {
   "cell_type": "code",
   "execution_count": 11,
   "metadata": {},
   "outputs": [
    {
     "data": {
      "text/html": [
       "<div>\n",
       "<style scoped>\n",
       "    .dataframe tbody tr th:only-of-type {\n",
       "        vertical-align: middle;\n",
       "    }\n",
       "\n",
       "    .dataframe tbody tr th {\n",
       "        vertical-align: top;\n",
       "    }\n",
       "\n",
       "    .dataframe thead th {\n",
       "        text-align: right;\n",
       "    }\n",
       "</style>\n",
       "<table border=\"1\" class=\"dataframe\">\n",
       "  <thead>\n",
       "    <tr style=\"text-align: right;\">\n",
       "      <th></th>\n",
       "      <th>name</th>\n",
       "      <th>birth_year</th>\n",
       "      <th>eye_color</th>\n",
       "      <th>gender</th>\n",
       "      <th>hair_color</th>\n",
       "      <th>height</th>\n",
       "      <th>mass</th>\n",
       "      <th>skin_color</th>\n",
       "      <th>homeworld</th>\n",
       "      <th>species</th>\n",
       "      <th>...</th>\n",
       "      <th>https://swapi.co/api/starships/21/</th>\n",
       "      <th>https://swapi.co/api/starships/28/</th>\n",
       "      <th>https://swapi.co/api/starships/40/</th>\n",
       "      <th>https://swapi.co/api/starships/41/</th>\n",
       "      <th>https://swapi.co/api/vehicles/42/</th>\n",
       "      <th>https://swapi.co/api/vehicles/55/</th>\n",
       "      <th>https://swapi.co/api/vehicles/45/</th>\n",
       "      <th>https://swapi.co/api/vehicles/60/</th>\n",
       "      <th>https://swapi.co/api/starships/77/</th>\n",
       "      <th>https://swapi.co/api/starships/49/</th>\n",
       "    </tr>\n",
       "  </thead>\n",
       "  <tbody>\n",
       "    <tr>\n",
       "      <th>0</th>\n",
       "      <td>Luke Skywalker</td>\n",
       "      <td>19BBY</td>\n",
       "      <td>blue</td>\n",
       "      <td>male</td>\n",
       "      <td>blond</td>\n",
       "      <td>172</td>\n",
       "      <td>77</td>\n",
       "      <td>fair</td>\n",
       "      <td>https://swapi.co/api/planets/1/</td>\n",
       "      <td>https://swapi.co/api/species/1/</td>\n",
       "      <td>...</td>\n",
       "      <td>False</td>\n",
       "      <td>False</td>\n",
       "      <td>False</td>\n",
       "      <td>False</td>\n",
       "      <td>False</td>\n",
       "      <td>False</td>\n",
       "      <td>False</td>\n",
       "      <td>False</td>\n",
       "      <td>False</td>\n",
       "      <td>False</td>\n",
       "    </tr>\n",
       "    <tr>\n",
       "      <th>1</th>\n",
       "      <td>C-3PO</td>\n",
       "      <td>112BBY</td>\n",
       "      <td>yellow</td>\n",
       "      <td>NaN</td>\n",
       "      <td>NaN</td>\n",
       "      <td>167</td>\n",
       "      <td>75</td>\n",
       "      <td>gold</td>\n",
       "      <td>https://swapi.co/api/planets/1/</td>\n",
       "      <td>https://swapi.co/api/species/2/</td>\n",
       "      <td>...</td>\n",
       "      <td>False</td>\n",
       "      <td>False</td>\n",
       "      <td>False</td>\n",
       "      <td>False</td>\n",
       "      <td>False</td>\n",
       "      <td>False</td>\n",
       "      <td>False</td>\n",
       "      <td>False</td>\n",
       "      <td>False</td>\n",
       "      <td>False</td>\n",
       "    </tr>\n",
       "    <tr>\n",
       "      <th>2</th>\n",
       "      <td>R2-D2</td>\n",
       "      <td>33BBY</td>\n",
       "      <td>red</td>\n",
       "      <td>NaN</td>\n",
       "      <td>NaN</td>\n",
       "      <td>96</td>\n",
       "      <td>32</td>\n",
       "      <td>white, blue</td>\n",
       "      <td>https://swapi.co/api/planets/8/</td>\n",
       "      <td>https://swapi.co/api/species/2/</td>\n",
       "      <td>...</td>\n",
       "      <td>False</td>\n",
       "      <td>False</td>\n",
       "      <td>False</td>\n",
       "      <td>False</td>\n",
       "      <td>False</td>\n",
       "      <td>False</td>\n",
       "      <td>False</td>\n",
       "      <td>False</td>\n",
       "      <td>False</td>\n",
       "      <td>False</td>\n",
       "    </tr>\n",
       "    <tr>\n",
       "      <th>3</th>\n",
       "      <td>Darth Vader</td>\n",
       "      <td>41.9BBY</td>\n",
       "      <td>yellow</td>\n",
       "      <td>male</td>\n",
       "      <td>none</td>\n",
       "      <td>202</td>\n",
       "      <td>136</td>\n",
       "      <td>white</td>\n",
       "      <td>https://swapi.co/api/planets/1/</td>\n",
       "      <td>https://swapi.co/api/species/1/</td>\n",
       "      <td>...</td>\n",
       "      <td>False</td>\n",
       "      <td>False</td>\n",
       "      <td>False</td>\n",
       "      <td>False</td>\n",
       "      <td>False</td>\n",
       "      <td>False</td>\n",
       "      <td>False</td>\n",
       "      <td>False</td>\n",
       "      <td>False</td>\n",
       "      <td>False</td>\n",
       "    </tr>\n",
       "    <tr>\n",
       "      <th>4</th>\n",
       "      <td>Leia Organa</td>\n",
       "      <td>19BBY</td>\n",
       "      <td>brown</td>\n",
       "      <td>female</td>\n",
       "      <td>brown</td>\n",
       "      <td>150</td>\n",
       "      <td>49</td>\n",
       "      <td>light</td>\n",
       "      <td>https://swapi.co/api/planets/2/</td>\n",
       "      <td>https://swapi.co/api/species/1/</td>\n",
       "      <td>...</td>\n",
       "      <td>False</td>\n",
       "      <td>False</td>\n",
       "      <td>False</td>\n",
       "      <td>False</td>\n",
       "      <td>False</td>\n",
       "      <td>False</td>\n",
       "      <td>False</td>\n",
       "      <td>False</td>\n",
       "      <td>False</td>\n",
       "      <td>False</td>\n",
       "    </tr>\n",
       "  </tbody>\n",
       "</table>\n",
       "<p>5 rows × 43 columns</p>\n",
       "</div>"
      ],
      "text/plain": [
       "             name birth_year eye_color  gender hair_color height mass  \\\n",
       "0  Luke Skywalker      19BBY      blue    male      blond    172   77   \n",
       "1           C-3PO     112BBY    yellow     NaN        NaN    167   75   \n",
       "2           R2-D2      33BBY       red     NaN        NaN     96   32   \n",
       "3     Darth Vader    41.9BBY    yellow    male       none    202  136   \n",
       "4     Leia Organa      19BBY     brown  female      brown    150   49   \n",
       "\n",
       "    skin_color                        homeworld  \\\n",
       "0         fair  https://swapi.co/api/planets/1/   \n",
       "1         gold  https://swapi.co/api/planets/1/   \n",
       "2  white, blue  https://swapi.co/api/planets/8/   \n",
       "3        white  https://swapi.co/api/planets/1/   \n",
       "4        light  https://swapi.co/api/planets/2/   \n",
       "\n",
       "                           species  ...  https://swapi.co/api/starships/21/  \\\n",
       "0  https://swapi.co/api/species/1/  ...                               False   \n",
       "1  https://swapi.co/api/species/2/  ...                               False   \n",
       "2  https://swapi.co/api/species/2/  ...                               False   \n",
       "3  https://swapi.co/api/species/1/  ...                               False   \n",
       "4  https://swapi.co/api/species/1/  ...                               False   \n",
       "\n",
       "   https://swapi.co/api/starships/28/  https://swapi.co/api/starships/40/  \\\n",
       "0                               False                               False   \n",
       "1                               False                               False   \n",
       "2                               False                               False   \n",
       "3                               False                               False   \n",
       "4                               False                               False   \n",
       "\n",
       "   https://swapi.co/api/starships/41/  https://swapi.co/api/vehicles/42/  \\\n",
       "0                               False                              False   \n",
       "1                               False                              False   \n",
       "2                               False                              False   \n",
       "3                               False                              False   \n",
       "4                               False                              False   \n",
       "\n",
       "   https://swapi.co/api/vehicles/55/  https://swapi.co/api/vehicles/45/  \\\n",
       "0                              False                              False   \n",
       "1                              False                              False   \n",
       "2                              False                              False   \n",
       "3                              False                              False   \n",
       "4                              False                              False   \n",
       "\n",
       "   https://swapi.co/api/vehicles/60/  https://swapi.co/api/starships/77/  \\\n",
       "0                              False                               False   \n",
       "1                              False                               False   \n",
       "2                              False                               False   \n",
       "3                              False                               False   \n",
       "4                              False                               False   \n",
       "\n",
       "   https://swapi.co/api/starships/49/  \n",
       "0                               False  \n",
       "1                               False  \n",
       "2                               False  \n",
       "3                               False  \n",
       "4                               False  \n",
       "\n",
       "[5 rows x 43 columns]"
      ]
     },
     "execution_count": 11,
     "metadata": {},
     "output_type": "execute_result"
    }
   ],
   "source": [
    "df.head()"
   ]
  },
  {
   "cell_type": "markdown",
   "metadata": {},
   "source": [
    "Part of what makes Pandas fast is the fact that under the hood it's making use of Numpy ndarrays. These have to be a single datatype though (bool, int, float, etc.), so if we have an array that's all integers and one string, the whole thing will be cast to Numpy's \"fallback\" datatype, which is \"object\". We want to avoid that because working with an object ndarray is VERY slow in comparison."
   ]
  },
  {
   "cell_type": "code",
   "execution_count": 12,
   "metadata": {},
   "outputs": [
    {
     "data": {
      "text/plain": [
       "44"
      ]
     },
     "execution_count": 12,
     "metadata": {},
     "output_type": "execute_result"
    }
   ],
   "source": [
    "## About half of our people have unknown birth years. \n",
    "## We'll have to think carefully about whether we want to use this field.\n",
    "df[df.birth_year == 'unknown'].shape[0]"
   ]
  },
  {
   "cell_type": "markdown",
   "metadata": {},
   "source": [
    "![birth year info](./assets/images/birth_year.png)"
   ]
  },
  {
   "cell_type": "code",
   "execution_count": 13,
   "metadata": {},
   "outputs": [
    {
     "name": "stdout",
     "output_type": "stream",
     "text": [
      "[]\n"
     ]
    }
   ],
   "source": [
    "## The birth years are in either \"BBY\" or \"ABY\", before or after an event in the \n",
    "## Star Wars universe. We can cast BBY values as negative floats, ABY values as positive\n",
    "## floats, and \"unknown\" as NaN\n",
    "def do_stuff(x):\n",
    "    if x[-3:] == 'BBY': return -float(x[:-3])\n",
    "    elif x[-3:] == 'ABY': return float(x[:-3])\n",
    "    else: return np.NaN\n",
    "    \n",
    "def format_birth_year(df):\n",
    "    return df.birth_year.apply(lambda x: do_stuff(x))\n",
    "\n",
    "print(np.where(format_birth_year(df) > 0)[0])\n",
    "# Hmm, they never use any ABY dates. I guess they're leaving the door open for \n",
    "# future information to be added (with new movies and all)"
   ]
  },
  {
   "cell_type": "markdown",
   "metadata": {},
   "source": [
    "# Data Visualization\n",
    "\n",
    "The data is now in a Pandas Dataframe. This gives us a lot of useful tools. We can take advantage of some of the things that make Numpy powerful (vectorization, broadcasting, etc), while gaining a lot of convenience (labeled columns, easier to deal with missing values, etc.). "
   ]
  },
  {
   "cell_type": "code",
   "execution_count": 14,
   "metadata": {},
   "outputs": [],
   "source": [
    "def num_known(df, x):\n",
    "    return np.where(df[x] != 'unknown')[0].shape[0]\n",
    "def num_unknown(df, x):\n",
    "    return np.where(df[x] == 'unknown')[0].shape[0]"
   ]
  },
  {
   "cell_type": "markdown",
   "metadata": {},
   "source": [
    "## Unknown values\n",
    "Let's get an idea of how much of our data is unknown. "
   ]
  },
  {
   "cell_type": "code",
   "execution_count": 15,
   "metadata": {},
   "outputs": [
    {
     "name": "stdout",
     "output_type": "stream",
     "text": [
      "Field: birth_year\t\t44 out of 87 are unknown\n",
      "Field: eye_color \t\t3 out of 87 are unknown\n",
      "Field: gender    \t\t0 out of 87 are unknown\n",
      "Field: hair_color\t\t1 out of 87 are unknown\n",
      "Field: height    \t\t6 out of 87 are unknown\n",
      "Field: mass      \t\t28 out of 87 are unknown\n",
      "Field: skin_color\t\t2 out of 87 are unknown\n",
      "Field: homeworld \t\t0 out of 87 are unknown\n"
     ]
    }
   ],
   "source": [
    "for i in df.columns[1:9]:\n",
    "    u = num_unknown(df, i)\n",
    "    print('Field: {}\\t\\t{} out of 87 are unknown'.format(i.ljust(10), u))"
   ]
  },
  {
   "cell_type": "markdown",
   "metadata": {},
   "source": [
    "So it might be iffy to make conclusions using the birth_year or mass fields."
   ]
  },
  {
   "cell_type": "markdown",
   "metadata": {},
   "source": [
    "## Height distribution across gender"
   ]
  },
  {
   "cell_type": "code",
   "execution_count": 16,
   "metadata": {},
   "outputs": [],
   "source": [
    "# a['results']"
   ]
  },
  {
   "cell_type": "code",
   "execution_count": 17,
   "metadata": {},
   "outputs": [
    {
     "name": "stdout",
     "output_type": "stream",
     "text": [
      "gender and gender count\n",
      "------------------------------------------------------------------------\n",
      "gender: female      \tcounts: 19          \t|gender: male        \tcounts: 62          \n",
      "gender: hermaphrodit\tcounts: 1           \t|gender: none        \tcounts: 2           \n",
      "gender: NaN         \tcounts: 87          \n"
     ]
    }
   ],
   "source": [
    "def format_col_entry(x,i,j,w):\n",
    "    a = '{}: {}'.format(x,i).ljust(w-5)[:w-5]\n",
    "    b = '{}: {}'.format('counts',j).ljust(w-5)[:w-5]\n",
    "    return a+'\\t'+b\n",
    "    #return '{}: {}\\tcounts: {}'.format(x, str(i).ljust(w),j)\n",
    "\n",
    "def print_header(x, w):\n",
    "    print('{} and {} count'.format(x,x))\n",
    "    print('-'*72) \n",
    "\n",
    "def get_unique_counts(df,x):\n",
    "    non_na_ind = ~df[x].isna()\n",
    "    return np.unique(df[x][non_na_ind], return_counts=True)\n",
    "    \n",
    "def print_unique_counts(df,x,w=25,cols=2):\n",
    "    print_header(x,w)\n",
    "    x_vals, x_counts = get_unique_counts(df, x)\n",
    "    l = [format_col_entry(x,i,j,w) for i,j in zip(x_vals, x_counts)]\n",
    "    r = len(l)%cols\n",
    "    if r != 0:\n",
    "        l += ' '*r\n",
    "    c = len(l)//cols\n",
    "    col_list = [l[i:i+c] for i in range(0,len(l),c)]\n",
    "    for i in range(c):\n",
    "        print(*[col_list[j][i] for j in range(cols)], sep='\\t|', end='\\n')\n",
    "    print(format_col_entry(x,'NaN',len(df[x].isna()),w))\n",
    "        \n",
    "\n",
    "\n",
    "print_unique_counts(df, 'gender')"
   ]
  },
  {
   "cell_type": "markdown",
   "metadata": {},
   "source": [
    "It makes sense to ignore the hermaphrodite, n/a, and none values"
   ]
  },
  {
   "cell_type": "code",
   "execution_count": 18,
   "metadata": {},
   "outputs": [],
   "source": [
    "def get_height_mask(df, g):\n",
    "    return df.apply(lambda x: True if ((x.gender == g) and \\\n",
    "                    (x.height != 'unknown')) else False, axis = 1)\n",
    "    \n",
    "male_heights = df.height[get_height_mask(df, 'male')]\n",
    "female_heights = df.height[get_height_mask(df, 'female')]\n",
    "# male_mask = np.where(df.gender == 'male')[0]\n",
    "# female_mask = np.where(df.gender == 'female')[0]\n",
    "# male_heights = df.height[male_mask]\n",
    "# female_heights = df.height[female_mask]"
   ]
  },
  {
   "cell_type": "code",
   "execution_count": 19,
   "metadata": {},
   "outputs": [
    {
     "data": {
      "text/plain": [
       "<matplotlib.axes._subplots.AxesSubplot at 0x1a1c573090>"
      ]
     },
     "execution_count": 19,
     "metadata": {},
     "output_type": "execute_result"
    },
    {
     "data": {
      "image/png": "[encoded data removed]",
      "text/plain": [
       "<Figure size 432x288 with 1 Axes>"
      ]
     },
     "metadata": {
      "needs_background": "light"
     },
     "output_type": "display_data"
    }
   ],
   "source": [
    "male_heights.hist(bins = 18)"
   ]
  },
  {
   "cell_type": "code",
   "execution_count": 20,
   "metadata": {},
   "outputs": [
    {
     "data": {
      "text/plain": [
       "<matplotlib.axes._subplots.AxesSubplot at 0x1a1c8a1b90>"
      ]
     },
     "execution_count": 20,
     "metadata": {},
     "output_type": "execute_result"
    },
    {
     "data": {
      "image/png": "[encoded data removed]",
      "text/plain": [
       "<Figure size 432x288 with 1 Axes>"
      ]
     },
     "metadata": {
      "needs_background": "light"
     },
     "output_type": "display_data"
    }
   ],
   "source": [
    "female_heights.hist(bins = 11)"
   ]
  },
  {
   "cell_type": "code",
   "execution_count": 21,
   "metadata": {},
   "outputs": [
    {
     "data": {
      "text/plain": [
       "19"
      ]
     },
     "execution_count": 21,
     "metadata": {},
     "output_type": "execute_result"
    }
   ],
   "source": [
    "## Wow, that's really not many women. I didn't realize there were so few\n",
    "np.where(df.gender=='female')[0].shape[0]"
   ]
  },
  {
   "cell_type": "code",
   "execution_count": 22,
   "metadata": {
    "scrolled": true
   },
   "outputs": [
    {
     "name": "stdout",
     "output_type": "stream",
     "text": [
      "planets JSON loaded!\n",
      "films JSON loaded!\n",
      "species JSON loaded!\n",
      "vehicles JSON loaded!\n",
      "starships JSON loaded!\n",
      "films JSON loaded!\n",
      "species JSON loaded!\n",
      "vehicles JSON loaded!\n",
      "starships JSON loaded!\n"
     ]
    },
    {
     "data": {
      "text/html": [
       "<div>\n",
       "<style scoped>\n",
       "    .dataframe tbody tr th:only-of-type {\n",
       "        vertical-align: middle;\n",
       "    }\n",
       "\n",
       "    .dataframe tbody tr th {\n",
       "        vertical-align: top;\n",
       "    }\n",
       "\n",
       "    .dataframe thead th {\n",
       "        text-align: right;\n",
       "    }\n",
       "</style>\n",
       "<table border=\"1\" class=\"dataframe\">\n",
       "  <thead>\n",
       "    <tr style=\"text-align: right;\">\n",
       "      <th></th>\n",
       "      <th>name</th>\n",
       "      <th>birth_year</th>\n",
       "      <th>eye_color</th>\n",
       "      <th>gender</th>\n",
       "      <th>hair_color</th>\n",
       "      <th>height</th>\n",
       "      <th>mass</th>\n",
       "      <th>skin_color</th>\n",
       "      <th>homeworld</th>\n",
       "      <th>species</th>\n",
       "      <th>...</th>\n",
       "      <th>Slave 1</th>\n",
       "      <th>A-wing</th>\n",
       "      <th>Naboo Royal Starship</th>\n",
       "      <th>Scimitar</th>\n",
       "      <th>Sith speeder</th>\n",
       "      <th>Flitknot speeder</th>\n",
       "      <th>Koro-2 Exodrive airspeeder</th>\n",
       "      <th>Tsmeu-6 personal wheel bike</th>\n",
       "      <th>T-70 X-wing fighter</th>\n",
       "      <th>H-type Nubian yacht</th>\n",
       "    </tr>\n",
       "  </thead>\n",
       "  <tbody>\n",
       "    <tr>\n",
       "      <th>0</th>\n",
       "      <td>Luke Skywalker</td>\n",
       "      <td>-19.0</td>\n",
       "      <td>blue</td>\n",
       "      <td>male</td>\n",
       "      <td>blond</td>\n",
       "      <td>172</td>\n",
       "      <td>77</td>\n",
       "      <td>fair</td>\n",
       "      <td>Tatooine</td>\n",
       "      <td>Human</td>\n",
       "      <td>...</td>\n",
       "      <td>False</td>\n",
       "      <td>False</td>\n",
       "      <td>False</td>\n",
       "      <td>False</td>\n",
       "      <td>False</td>\n",
       "      <td>False</td>\n",
       "      <td>False</td>\n",
       "      <td>False</td>\n",
       "      <td>False</td>\n",
       "      <td>False</td>\n",
       "    </tr>\n",
       "    <tr>\n",
       "      <th>1</th>\n",
       "      <td>C-3PO</td>\n",
       "      <td>-112.0</td>\n",
       "      <td>yellow</td>\n",
       "      <td>NaN</td>\n",
       "      <td>NaN</td>\n",
       "      <td>167</td>\n",
       "      <td>75</td>\n",
       "      <td>gold</td>\n",
       "      <td>Tatooine</td>\n",
       "      <td>Droid</td>\n",
       "      <td>...</td>\n",
       "      <td>False</td>\n",
       "      <td>False</td>\n",
       "      <td>False</td>\n",
       "      <td>False</td>\n",
       "      <td>False</td>\n",
       "      <td>False</td>\n",
       "      <td>False</td>\n",
       "      <td>False</td>\n",
       "      <td>False</td>\n",
       "      <td>False</td>\n",
       "    </tr>\n",
       "    <tr>\n",
       "      <th>2</th>\n",
       "      <td>R2-D2</td>\n",
       "      <td>-33.0</td>\n",
       "      <td>red</td>\n",
       "      <td>NaN</td>\n",
       "      <td>NaN</td>\n",
       "      <td>96</td>\n",
       "      <td>32</td>\n",
       "      <td>white, blue</td>\n",
       "      <td>Naboo</td>\n",
       "      <td>Droid</td>\n",
       "      <td>...</td>\n",
       "      <td>False</td>\n",
       "      <td>False</td>\n",
       "      <td>False</td>\n",
       "      <td>False</td>\n",
       "      <td>False</td>\n",
       "      <td>False</td>\n",
       "      <td>False</td>\n",
       "      <td>False</td>\n",
       "      <td>False</td>\n",
       "      <td>False</td>\n",
       "    </tr>\n",
       "    <tr>\n",
       "      <th>3</th>\n",
       "      <td>Darth Vader</td>\n",
       "      <td>-41.9</td>\n",
       "      <td>yellow</td>\n",
       "      <td>male</td>\n",
       "      <td>none</td>\n",
       "      <td>202</td>\n",
       "      <td>136</td>\n",
       "      <td>white</td>\n",
       "      <td>Tatooine</td>\n",
       "      <td>Human</td>\n",
       "      <td>...</td>\n",
       "      <td>False</td>\n",
       "      <td>False</td>\n",
       "      <td>False</td>\n",
       "      <td>False</td>\n",
       "      <td>False</td>\n",
       "      <td>False</td>\n",
       "      <td>False</td>\n",
       "      <td>False</td>\n",
       "      <td>False</td>\n",
       "      <td>False</td>\n",
       "    </tr>\n",
       "    <tr>\n",
       "      <th>4</th>\n",
       "      <td>Leia Organa</td>\n",
       "      <td>-19.0</td>\n",
       "      <td>brown</td>\n",
       "      <td>female</td>\n",
       "      <td>brown</td>\n",
       "      <td>150</td>\n",
       "      <td>49</td>\n",
       "      <td>light</td>\n",
       "      <td>Alderaan</td>\n",
       "      <td>Human</td>\n",
       "      <td>...</td>\n",
       "      <td>False</td>\n",
       "      <td>False</td>\n",
       "      <td>False</td>\n",
       "      <td>False</td>\n",
       "      <td>False</td>\n",
       "      <td>False</td>\n",
       "      <td>False</td>\n",
       "      <td>False</td>\n",
       "      <td>False</td>\n",
       "      <td>False</td>\n",
       "    </tr>\n",
       "  </tbody>\n",
       "</table>\n",
       "<p>5 rows × 43 columns</p>\n",
       "</div>"
      ],
      "text/plain": [
       "             name  birth_year eye_color  gender hair_color height mass  \\\n",
       "0  Luke Skywalker       -19.0      blue    male      blond    172   77   \n",
       "1           C-3PO      -112.0    yellow     NaN        NaN    167   75   \n",
       "2           R2-D2       -33.0       red     NaN        NaN     96   32   \n",
       "3     Darth Vader       -41.9    yellow    male       none    202  136   \n",
       "4     Leia Organa       -19.0     brown  female      brown    150   49   \n",
       "\n",
       "    skin_color homeworld species  ...  Slave 1  A-wing  Naboo Royal Starship  \\\n",
       "0         fair  Tatooine   Human  ...    False   False                 False   \n",
       "1         gold  Tatooine   Droid  ...    False   False                 False   \n",
       "2  white, blue     Naboo   Droid  ...    False   False                 False   \n",
       "3        white  Tatooine   Human  ...    False   False                 False   \n",
       "4        light  Alderaan   Human  ...    False   False                 False   \n",
       "\n",
       "   Scimitar  Sith speeder  Flitknot speeder  Koro-2 Exodrive airspeeder  \\\n",
       "0     False         False             False                       False   \n",
       "1     False         False             False                       False   \n",
       "2     False         False             False                       False   \n",
       "3     False         False             False                       False   \n",
       "4     False         False             False                       False   \n",
       "\n",
       "   Tsmeu-6 personal wheel bike  T-70 X-wing fighter  H-type Nubian yacht  \n",
       "0                        False                False                False  \n",
       "1                        False                False                False  \n",
       "2                        False                False                False  \n",
       "3                        False                False                False  \n",
       "4                        False                False                False  \n",
       "\n",
       "[5 rows x 43 columns]"
      ]
     },
     "execution_count": 22,
     "metadata": {},
     "output_type": "execute_result"
    }
   ],
   "source": [
    "df = df_utilities.cleanup(df)\n",
    "df.head()"
   ]
  },
  {
   "cell_type": "code",
   "execution_count": 23,
   "metadata": {},
   "outputs": [
    {
     "name": "stdout",
     "output_type": "stream",
     "text": [
      "species\n",
      "The Empire Strikes Back\n",
      "Revenge of the Sith\n",
      "Return of the Jedi\n",
      "A New Hope\n",
      "The Force Awakens\n"
     ]
    }
   ],
   "source": [
    "for i in np.arange(9,15,1):\n",
    "    print(df.columns[i])\n"
   ]
  },
  {
   "cell_type": "code",
   "execution_count": 24,
   "metadata": {},
   "outputs": [
    {
     "data": {
      "text/html": [
       "<div>\n",
       "<style scoped>\n",
       "    .dataframe tbody tr th:only-of-type {\n",
       "        vertical-align: middle;\n",
       "    }\n",
       "\n",
       "    .dataframe tbody tr th {\n",
       "        vertical-align: top;\n",
       "    }\n",
       "\n",
       "    .dataframe thead th {\n",
       "        text-align: right;\n",
       "    }\n",
       "</style>\n",
       "<table border=\"1\" class=\"dataframe\">\n",
       "  <thead>\n",
       "    <tr style=\"text-align: right;\">\n",
       "      <th></th>\n",
       "      <th>name</th>\n",
       "      <th>birth_year</th>\n",
       "      <th>eye_color</th>\n",
       "      <th>gender</th>\n",
       "      <th>hair_color</th>\n",
       "      <th>height</th>\n",
       "      <th>mass</th>\n",
       "      <th>skin_color</th>\n",
       "      <th>homeworld</th>\n",
       "      <th>species</th>\n",
       "      <th>...</th>\n",
       "      <th>Slave 1</th>\n",
       "      <th>A-wing</th>\n",
       "      <th>Naboo Royal Starship</th>\n",
       "      <th>Scimitar</th>\n",
       "      <th>Sith speeder</th>\n",
       "      <th>Flitknot speeder</th>\n",
       "      <th>Koro-2 Exodrive airspeeder</th>\n",
       "      <th>Tsmeu-6 personal wheel bike</th>\n",
       "      <th>T-70 X-wing fighter</th>\n",
       "      <th>H-type Nubian yacht</th>\n",
       "    </tr>\n",
       "  </thead>\n",
       "  <tbody>\n",
       "    <tr>\n",
       "      <th>0</th>\n",
       "      <td>Luke Skywalker</td>\n",
       "      <td>-19.0</td>\n",
       "      <td>blue</td>\n",
       "      <td>male</td>\n",
       "      <td>blond</td>\n",
       "      <td>172</td>\n",
       "      <td>77</td>\n",
       "      <td>fair</td>\n",
       "      <td>Tatooine</td>\n",
       "      <td>Human</td>\n",
       "      <td>...</td>\n",
       "      <td>False</td>\n",
       "      <td>False</td>\n",
       "      <td>False</td>\n",
       "      <td>False</td>\n",
       "      <td>False</td>\n",
       "      <td>False</td>\n",
       "      <td>False</td>\n",
       "      <td>False</td>\n",
       "      <td>False</td>\n",
       "      <td>False</td>\n",
       "    </tr>\n",
       "    <tr>\n",
       "      <th>1</th>\n",
       "      <td>C-3PO</td>\n",
       "      <td>-112.0</td>\n",
       "      <td>yellow</td>\n",
       "      <td>NaN</td>\n",
       "      <td>NaN</td>\n",
       "      <td>167</td>\n",
       "      <td>75</td>\n",
       "      <td>gold</td>\n",
       "      <td>Tatooine</td>\n",
       "      <td>Droid</td>\n",
       "      <td>...</td>\n",
       "      <td>False</td>\n",
       "      <td>False</td>\n",
       "      <td>False</td>\n",
       "      <td>False</td>\n",
       "      <td>False</td>\n",
       "      <td>False</td>\n",
       "      <td>False</td>\n",
       "      <td>False</td>\n",
       "      <td>False</td>\n",
       "      <td>False</td>\n",
       "    </tr>\n",
       "    <tr>\n",
       "      <th>2</th>\n",
       "      <td>R2-D2</td>\n",
       "      <td>-33.0</td>\n",
       "      <td>red</td>\n",
       "      <td>NaN</td>\n",
       "      <td>NaN</td>\n",
       "      <td>96</td>\n",
       "      <td>32</td>\n",
       "      <td>white, blue</td>\n",
       "      <td>Naboo</td>\n",
       "      <td>Droid</td>\n",
       "      <td>...</td>\n",
       "      <td>False</td>\n",
       "      <td>False</td>\n",
       "      <td>False</td>\n",
       "      <td>False</td>\n",
       "      <td>False</td>\n",
       "      <td>False</td>\n",
       "      <td>False</td>\n",
       "      <td>False</td>\n",
       "      <td>False</td>\n",
       "      <td>False</td>\n",
       "    </tr>\n",
       "    <tr>\n",
       "      <th>3</th>\n",
       "      <td>Darth Vader</td>\n",
       "      <td>-41.9</td>\n",
       "      <td>yellow</td>\n",
       "      <td>male</td>\n",
       "      <td>none</td>\n",
       "      <td>202</td>\n",
       "      <td>136</td>\n",
       "      <td>white</td>\n",
       "      <td>Tatooine</td>\n",
       "      <td>Human</td>\n",
       "      <td>...</td>\n",
       "      <td>False</td>\n",
       "      <td>False</td>\n",
       "      <td>False</td>\n",
       "      <td>False</td>\n",
       "      <td>False</td>\n",
       "      <td>False</td>\n",
       "      <td>False</td>\n",
       "      <td>False</td>\n",
       "      <td>False</td>\n",
       "      <td>False</td>\n",
       "    </tr>\n",
       "    <tr>\n",
       "      <th>4</th>\n",
       "      <td>Leia Organa</td>\n",
       "      <td>-19.0</td>\n",
       "      <td>brown</td>\n",
       "      <td>female</td>\n",
       "      <td>brown</td>\n",
       "      <td>150</td>\n",
       "      <td>49</td>\n",
       "      <td>light</td>\n",
       "      <td>Alderaan</td>\n",
       "      <td>Human</td>\n",
       "      <td>...</td>\n",
       "      <td>False</td>\n",
       "      <td>False</td>\n",
       "      <td>False</td>\n",
       "      <td>False</td>\n",
       "      <td>False</td>\n",
       "      <td>False</td>\n",
       "      <td>False</td>\n",
       "      <td>False</td>\n",
       "      <td>False</td>\n",
       "      <td>False</td>\n",
       "    </tr>\n",
       "  </tbody>\n",
       "</table>\n",
       "<p>5 rows × 43 columns</p>\n",
       "</div>"
      ],
      "text/plain": [
       "             name  birth_year eye_color  gender hair_color height mass  \\\n",
       "0  Luke Skywalker       -19.0      blue    male      blond    172   77   \n",
       "1           C-3PO      -112.0    yellow     NaN        NaN    167   75   \n",
       "2           R2-D2       -33.0       red     NaN        NaN     96   32   \n",
       "3     Darth Vader       -41.9    yellow    male       none    202  136   \n",
       "4     Leia Organa       -19.0     brown  female      brown    150   49   \n",
       "\n",
       "    skin_color homeworld species  ...  Slave 1  A-wing  Naboo Royal Starship  \\\n",
       "0         fair  Tatooine   Human  ...    False   False                 False   \n",
       "1         gold  Tatooine   Droid  ...    False   False                 False   \n",
       "2  white, blue     Naboo   Droid  ...    False   False                 False   \n",
       "3        white  Tatooine   Human  ...    False   False                 False   \n",
       "4        light  Alderaan   Human  ...    False   False                 False   \n",
       "\n",
       "   Scimitar  Sith speeder  Flitknot speeder  Koro-2 Exodrive airspeeder  \\\n",
       "0     False         False             False                       False   \n",
       "1     False         False             False                       False   \n",
       "2     False         False             False                       False   \n",
       "3     False         False             False                       False   \n",
       "4     False         False             False                       False   \n",
       "\n",
       "   Tsmeu-6 personal wheel bike  T-70 X-wing fighter  H-type Nubian yacht  \n",
       "0                        False                False                False  \n",
       "1                        False                False                False  \n",
       "2                        False                False                False  \n",
       "3                        False                False                False  \n",
       "4                        False                False                False  \n",
       "\n",
       "[5 rows x 43 columns]"
      ]
     },
     "execution_count": 24,
     "metadata": {},
     "output_type": "execute_result"
    }
   ],
   "source": [
    "df.head()"
   ]
  },
  {
   "cell_type": "code",
   "execution_count": 25,
   "metadata": {},
   "outputs": [
    {
     "name": "stdout",
     "output_type": "stream",
     "text": [
      "films JSON loaded!\n",
      "species JSON loaded!\n",
      "vehicles JSON loaded!\n",
      "starships JSON loaded!\n"
     ]
    },
    {
     "data": {
      "text/html": [
       "<div>\n",
       "<style scoped>\n",
       "    .dataframe tbody tr th:only-of-type {\n",
       "        vertical-align: middle;\n",
       "    }\n",
       "\n",
       "    .dataframe tbody tr th {\n",
       "        vertical-align: top;\n",
       "    }\n",
       "\n",
       "    .dataframe thead th {\n",
       "        text-align: right;\n",
       "    }\n",
       "</style>\n",
       "<table border=\"1\" class=\"dataframe\">\n",
       "  <thead>\n",
       "    <tr style=\"text-align: right;\">\n",
       "      <th></th>\n",
       "      <th>name</th>\n",
       "      <th>birth_year</th>\n",
       "      <th>eye_color</th>\n",
       "      <th>gender</th>\n",
       "      <th>hair_color</th>\n",
       "      <th>height</th>\n",
       "      <th>mass</th>\n",
       "      <th>skin_color</th>\n",
       "      <th>homeworld</th>\n",
       "      <th>species</th>\n",
       "      <th>...</th>\n",
       "      <th>Slave 1</th>\n",
       "      <th>A-wing</th>\n",
       "      <th>Naboo Royal Starship</th>\n",
       "      <th>Scimitar</th>\n",
       "      <th>Sith speeder</th>\n",
       "      <th>Flitknot speeder</th>\n",
       "      <th>Koro-2 Exodrive airspeeder</th>\n",
       "      <th>Tsmeu-6 personal wheel bike</th>\n",
       "      <th>T-70 X-wing fighter</th>\n",
       "      <th>H-type Nubian yacht</th>\n",
       "    </tr>\n",
       "  </thead>\n",
       "  <tbody>\n",
       "    <tr>\n",
       "      <th>0</th>\n",
       "      <td>Luke Skywalker</td>\n",
       "      <td>-19.0</td>\n",
       "      <td>blue</td>\n",
       "      <td>male</td>\n",
       "      <td>blond</td>\n",
       "      <td>172</td>\n",
       "      <td>77</td>\n",
       "      <td>fair</td>\n",
       "      <td>Tatooine</td>\n",
       "      <td>Human</td>\n",
       "      <td>...</td>\n",
       "      <td>False</td>\n",
       "      <td>False</td>\n",
       "      <td>False</td>\n",
       "      <td>False</td>\n",
       "      <td>False</td>\n",
       "      <td>False</td>\n",
       "      <td>False</td>\n",
       "      <td>False</td>\n",
       "      <td>False</td>\n",
       "      <td>False</td>\n",
       "    </tr>\n",
       "    <tr>\n",
       "      <th>1</th>\n",
       "      <td>C-3PO</td>\n",
       "      <td>-112.0</td>\n",
       "      <td>yellow</td>\n",
       "      <td>NaN</td>\n",
       "      <td>NaN</td>\n",
       "      <td>167</td>\n",
       "      <td>75</td>\n",
       "      <td>gold</td>\n",
       "      <td>Tatooine</td>\n",
       "      <td>Droid</td>\n",
       "      <td>...</td>\n",
       "      <td>False</td>\n",
       "      <td>False</td>\n",
       "      <td>False</td>\n",
       "      <td>False</td>\n",
       "      <td>False</td>\n",
       "      <td>False</td>\n",
       "      <td>False</td>\n",
       "      <td>False</td>\n",
       "      <td>False</td>\n",
       "      <td>False</td>\n",
       "    </tr>\n",
       "    <tr>\n",
       "      <th>2</th>\n",
       "      <td>R2-D2</td>\n",
       "      <td>-33.0</td>\n",
       "      <td>red</td>\n",
       "      <td>NaN</td>\n",
       "      <td>NaN</td>\n",
       "      <td>96</td>\n",
       "      <td>32</td>\n",
       "      <td>white, blue</td>\n",
       "      <td>Naboo</td>\n",
       "      <td>Droid</td>\n",
       "      <td>...</td>\n",
       "      <td>False</td>\n",
       "      <td>False</td>\n",
       "      <td>False</td>\n",
       "      <td>False</td>\n",
       "      <td>False</td>\n",
       "      <td>False</td>\n",
       "      <td>False</td>\n",
       "      <td>False</td>\n",
       "      <td>False</td>\n",
       "      <td>False</td>\n",
       "    </tr>\n",
       "    <tr>\n",
       "      <th>3</th>\n",
       "      <td>Darth Vader</td>\n",
       "      <td>-41.9</td>\n",
       "      <td>yellow</td>\n",
       "      <td>male</td>\n",
       "      <td>none</td>\n",
       "      <td>202</td>\n",
       "      <td>136</td>\n",
       "      <td>white</td>\n",
       "      <td>Tatooine</td>\n",
       "      <td>Human</td>\n",
       "      <td>...</td>\n",
       "      <td>False</td>\n",
       "      <td>False</td>\n",
       "      <td>False</td>\n",
       "      <td>False</td>\n",
       "      <td>False</td>\n",
       "      <td>False</td>\n",
       "      <td>False</td>\n",
       "      <td>False</td>\n",
       "      <td>False</td>\n",
       "      <td>False</td>\n",
       "    </tr>\n",
       "    <tr>\n",
       "      <th>4</th>\n",
       "      <td>Leia Organa</td>\n",
       "      <td>-19.0</td>\n",
       "      <td>brown</td>\n",
       "      <td>female</td>\n",
       "      <td>brown</td>\n",
       "      <td>150</td>\n",
       "      <td>49</td>\n",
       "      <td>light</td>\n",
       "      <td>Alderaan</td>\n",
       "      <td>Human</td>\n",
       "      <td>...</td>\n",
       "      <td>False</td>\n",
       "      <td>False</td>\n",
       "      <td>False</td>\n",
       "      <td>False</td>\n",
       "      <td>False</td>\n",
       "      <td>False</td>\n",
       "      <td>False</td>\n",
       "      <td>False</td>\n",
       "      <td>False</td>\n",
       "      <td>False</td>\n",
       "    </tr>\n",
       "  </tbody>\n",
       "</table>\n",
       "<p>5 rows × 43 columns</p>\n",
       "</div>"
      ],
      "text/plain": [
       "             name  birth_year eye_color  gender hair_color height mass  \\\n",
       "0  Luke Skywalker       -19.0      blue    male      blond    172   77   \n",
       "1           C-3PO      -112.0    yellow     NaN        NaN    167   75   \n",
       "2           R2-D2       -33.0       red     NaN        NaN     96   32   \n",
       "3     Darth Vader       -41.9    yellow    male       none    202  136   \n",
       "4     Leia Organa       -19.0     brown  female      brown    150   49   \n",
       "\n",
       "    skin_color homeworld species  ...  Slave 1  A-wing  Naboo Royal Starship  \\\n",
       "0         fair  Tatooine   Human  ...    False   False                 False   \n",
       "1         gold  Tatooine   Droid  ...    False   False                 False   \n",
       "2  white, blue     Naboo   Droid  ...    False   False                 False   \n",
       "3        white  Tatooine   Human  ...    False   False                 False   \n",
       "4        light  Alderaan   Human  ...    False   False                 False   \n",
       "\n",
       "   Scimitar  Sith speeder  Flitknot speeder  Koro-2 Exodrive airspeeder  \\\n",
       "0     False         False             False                       False   \n",
       "1     False         False             False                       False   \n",
       "2     False         False             False                       False   \n",
       "3     False         False             False                       False   \n",
       "4     False         False             False                       False   \n",
       "\n",
       "   Tsmeu-6 personal wheel bike  T-70 X-wing fighter  H-type Nubian yacht  \n",
       "0                        False                False                False  \n",
       "1                        False                False                False  \n",
       "2                        False                False                False  \n",
       "3                        False                False                False  \n",
       "4                        False                False                False  \n",
       "\n",
       "[5 rows x 43 columns]"
      ]
     },
     "execution_count": 25,
     "metadata": {},
     "output_type": "execute_result"
    }
   ],
   "source": [
    "df_utilities.urls_to_names(df).head()"
   ]
  },
  {
   "cell_type": "code",
   "execution_count": 26,
   "metadata": {},
   "outputs": [
    {
     "name": "stdout",
     "output_type": "stream",
     "text": [
      "homeworld and homeworld count\n",
      "------------------------------------------------------------------------\n",
      "homeworld: Alderaan \tcounts: 3           \t|homeworld: Mon Cala \tcounts: 1           \n",
      "homeworld: Aleen Min\tcounts: 1           \t|homeworld: Muunilins\tcounts: 1           \n",
      "homeworld: Bespin   \tcounts: 1           \t|homeworld: Naboo    \tcounts: 11          \n",
      "homeworld: Bestine I\tcounts: 1           \t|homeworld: Nal Hutta\tcounts: 1           \n",
      "homeworld: Cato Neim\tcounts: 1           \t|homeworld: Ojom     \tcounts: 1           \n",
      "homeworld: Cerea    \tcounts: 1           \t|homeworld: Quermia  \tcounts: 1           \n",
      "homeworld: Champala \tcounts: 1           \t|homeworld: Rodia    \tcounts: 1           \n",
      "homeworld: Chandrila\tcounts: 1           \t|homeworld: Ryloth   \tcounts: 2           \n",
      "homeworld: Concord D\tcounts: 1           \t|homeworld: Serenno  \tcounts: 1           \n",
      "homeworld: Corellia \tcounts: 2           \t|homeworld: Shili    \tcounts: 1           \n",
      "homeworld: Coruscant\tcounts: 3           \t|homeworld: Skako    \tcounts: 1           \n",
      "homeworld: Dathomir \tcounts: 1           \t|homeworld: Socorro  \tcounts: 1           \n",
      "homeworld: Dorin    \tcounts: 1           \t|homeworld: Stewjon  \tcounts: 1           \n",
      "homeworld: Endor    \tcounts: 1           \t|homeworld: Sullust  \tcounts: 1           \n",
      "homeworld: Eriadu   \tcounts: 1           \t|homeworld: Tatooine \tcounts: 10          \n",
      "homeworld: Geonosis \tcounts: 1           \t|homeworld: Toydaria \tcounts: 1           \n",
      "homeworld: Glee Anse\tcounts: 1           \t|homeworld: Trandosha\tcounts: 1           \n",
      "homeworld: Haruun Ka\tcounts: 1           \t|homeworld: Troiken  \tcounts: 1           \n",
      "homeworld: Iktotch  \tcounts: 1           \t|homeworld: Tund     \tcounts: 1           \n",
      "homeworld: Iridonia \tcounts: 1           \t|homeworld: Umbara   \tcounts: 1           \n",
      "homeworld: Kalee    \tcounts: 1           \t|homeworld: Utapau   \tcounts: 1           \n",
      "homeworld: Kamino   \tcounts: 3           \t|homeworld: Vulpter  \tcounts: 1           \n",
      "homeworld: Kashyyyk \tcounts: 2           \t|homeworld: Zolan    \tcounts: 1           \n",
      "homeworld: Malastare\tcounts: 1           \t|homeworld: unknown  \tcounts: 10          \n",
      "homeworld: Mirial   \tcounts: 2           \t| \n",
      "homeworld: NaN      \tcounts: 87          \n"
     ]
    }
   ],
   "source": [
    "# Wow, everyone has to be SO special with their homeworlds.\n",
    "print_unique_counts(df,'homeworld')"
   ]
  },
  {
   "cell_type": "code",
   "execution_count": 27,
   "metadata": {},
   "outputs": [
    {
     "data": {
      "text/plain": [
       "array(['Alderaan', 'Coruscant', 'Kamino', 'Naboo', 'Tatooine', 'unknown'],\n",
       "      dtype=object)"
      ]
     },
     "execution_count": 27,
     "metadata": {},
     "output_type": "execute_result"
    }
   ],
   "source": [
    "worlds,world_counts = np.unique(df.homeworld, return_counts=True)\n",
    "populous_worlds = worlds[np.where(world_counts>2)]\n",
    "populous_worlds"
   ]
  },
  {
   "cell_type": "code",
   "execution_count": 28,
   "metadata": {},
   "outputs": [
    {
     "data": {
      "image/png": "[encoded data removed]",
      "text/plain": [
       "<Figure size 720x1080 with 6 Axes>"
      ]
     },
     "metadata": {
      "needs_background": "light"
     },
     "output_type": "display_data"
    }
   ],
   "source": [
    "def get_height_mask(df, col1, col2, val):\n",
    "    return df.apply(lambda x: True if ((x[col1] == val) and \\\n",
    "                    (x[col2] != 'unknown')) else False, axis = 1)\n",
    "\n",
    "fig = plt.figure(figsize=(10,15))\n",
    "ax_list = []\n",
    "hmax = 0\n",
    "hmin = 500\n",
    "height_list = []\n",
    "for i in range(len(populous_worlds)):\n",
    "    world = populous_worlds[i]\n",
    "    windex = get_height_mask(df, 'homeworld','height', world)\n",
    "    height_list.append(list(df.height[windex]))\n",
    "    for j in df.height[windex]:\n",
    "        n = int(j)\n",
    "        if n > hmax: hmax = n\n",
    "        if n < hmin: hmin = n\n",
    "            \n",
    "for h, w, i in zip(height_list, populous_worlds, range(len(populous_worlds))):\n",
    "    hbins = np.array([hmin]+[int(j) for j in h]+[hmax])\n",
    "    ax_list.append(fig.add_subplot(3,2,i+1))\n",
    "    #ax_list[-1].set_xlim([60,230])\n",
    "    ax_list[-1].hist(h, bins='sqrt', histtype='stepfilled')\n",
    "    ax_list[-1].set_title(populous_worlds[i])\n",
    "\n",
    "\n",
    "# for i in range(len(populous_worlds)):\n",
    "#     world = populous_worlds[i]\n",
    "#     windex = get_height_mask(df, 'homeworld','height', world)\n",
    "#     ax = fig.add_subplot(3,2,i+1)\n",
    "#     ax.hist(df.height[windex])\n",
    "#     ax.set_title(populous_worlds[i])\n",
    "#     height_list.append(list(df.height[windex]))\n",
    "#     for j in df.height[windex]:\n",
    "#         n = int(j)\n",
    "#         if n > hmax: hmax = n\n",
    "#         if n < hmin: hmin = n"
   ]
  },
  {
   "cell_type": "code",
   "execution_count": 29,
   "metadata": {},
   "outputs": [
    {
     "name": "stdout",
     "output_type": "stream",
     "text": [
      "Alderaan\n",
      "['150', '191', '188']\n",
      "Coruscant\n",
      "['170', '184', '167']\n",
      "Kamino\n",
      "['183', '229', '213']\n",
      "Naboo\n",
      "['96', '170', '196', '224', '206', '183', '183', '185', '157', '165', '165']\n",
      "Tatooine\n",
      "['172', '167', '202', '178', '165', '97', '183', '188', '163', '183']\n",
      "unknown\n",
      "['66', '200', '193', '96']\n"
     ]
    }
   ],
   "source": [
    "for h,w in zip(height_list, populous_worlds):\n",
    "    print(w)\n",
    "    print(h)"
   ]
  },
  {
   "cell_type": "code",
   "execution_count": 30,
   "metadata": {},
   "outputs": [
    {
     "name": "stdout",
     "output_type": "stream",
     "text": [
      "species and species count\n",
      "------------------------------------------------------------------------\n",
      "species: Aleena     \tcounts: 1           \t|species: Nautolan   \tcounts: 1           \n",
      "species: Besalisk   \tcounts: 1           \t|species: Neimodian  \tcounts: 1           \n",
      "species: Cerean     \tcounts: 1           \t|species: Pau'an     \tcounts: 1           \n",
      "species: Chagrian   \tcounts: 1           \t|species: Quermian   \tcounts: 1           \n",
      "species: Clawdite   \tcounts: 1           \t|species: Rodian     \tcounts: 1           \n",
      "species: Droid      \tcounts: 5           \t|species: Skakoan    \tcounts: 1           \n",
      "species: Dug        \tcounts: 1           \t|species: Sullustan  \tcounts: 1           \n",
      "species: Ewok       \tcounts: 1           \t|species: Tholothian \tcounts: 1           \n",
      "species: Geonosian  \tcounts: 1           \t|species: Togruta    \tcounts: 1           \n",
      "species: Gungan     \tcounts: 3           \t|species: Toong      \tcounts: 1           \n",
      "species: Human      \tcounts: 35          \t|species: Toydarian  \tcounts: 1           \n",
      "species: Hutt       \tcounts: 1           \t|species: Trandoshan \tcounts: 1           \n",
      "species: Iktotchi   \tcounts: 1           \t|species: Twi'lek    \tcounts: 2           \n",
      "species: Kaleesh    \tcounts: 1           \t|species: Vulptereen \tcounts: 1           \n",
      "species: Kaminoan   \tcounts: 2           \t|species: Wookiee    \tcounts: 2           \n",
      "species: Kel Dor    \tcounts: 1           \t|species: Xexto      \tcounts: 1           \n",
      "species: Mirialan   \tcounts: 2           \t|species: Yoda's spec\tcounts: 1           \n",
      "species: Mon Calamar\tcounts: 1           \t|species: Zabrak     \tcounts: 2           \n",
      "species: Muun       \tcounts: 1           \t| \n",
      "species: NaN        \tcounts: 87          \n"
     ]
    }
   ],
   "source": [
    "print_unique_counts(df,'species')"
   ]
  },
  {
   "cell_type": "code",
   "execution_count": 31,
   "metadata": {},
   "outputs": [
    {
     "data": {
      "text/plain": [
       "array(['Droid', 'Gungan', 'Human'], dtype=object)"
      ]
     },
     "execution_count": 31,
     "metadata": {},
     "output_type": "execute_result"
    }
   ],
   "source": [
    "species,species_count = get_unique_counts(df,'species')\n",
    "common_species = species[np.where(species_count>2)]\n",
    "common_species"
   ]
  },
  {
   "cell_type": "code",
   "execution_count": 69,
   "metadata": {},
   "outputs": [
    {
     "name": "stdout",
     "output_type": "stream",
     "text": [
      "96 202\n"
     ]
    },
    {
     "data": {
      "image/png": "[encoded data removed]",
      "text/plain": [
       "<Figure size 720x360 with 2 Axes>"
      ]
     },
     "metadata": {
      "needs_background": "light"
     },
     "output_type": "display_data"
    }
   ],
   "source": [
    "from astropy.visualization import hist\n",
    "\n",
    "\n",
    "def plot_cols(quant_list, col1_vals, graph_width, bin_val, htype, title_str):\n",
    "    clen = len(col1_vals)\n",
    "    ax_list = []\n",
    "    plot_height = clen // 2 + clen % 2\n",
    "    fig = plt.figure(figsize=(graph_width,plot_height*5))\n",
    "    for v1, v2, i in zip(quant_list, col1_vals, range(clen)):\n",
    "        ax_list.append(fig.add_subplot(plot_height,2,i+1))\n",
    "        n, bins, patches = hist(v1, bins=bin_val, ax=ax_list[-1], \n",
    "                                histtype=htype, alpha=0.2, density=True)\n",
    "        ax_list[-1].set_title(title_str.format(col1_vals[i]))\n",
    "            \n",
    "            \n",
    "def plot_df_hist(df, col1, col1_vals, col2='height', graph_width=10,\n",
    "                     plot_type='cols', bin_val='freedman', \n",
    "                     htype='stepfilled', title_str='{}'):\n",
    "    clen = len(col1_vals)\n",
    "    ax_list = []\n",
    "    hmax = 0\n",
    "    hmin = 500\n",
    "    quant_list = []\n",
    "    for i in range(clen):\n",
    "        x = col1_vals[i]\n",
    "        quant_mask = get_height_mask(df, col1, col2, x)\n",
    "        quant_list.append([float(i) for i in df[col2][quant_mask]])\n",
    "        for j in df[col2][quant_mask]:\n",
    "            n = int(j)\n",
    "            if n > hmax: hmax = n\n",
    "            if n < hmin: hmin = n\n",
    "    print(hmin,hmax)\n",
    "    if plot_type == 'cols':\n",
    "        plot_cols(quant_list, col1_vals, graph_width, bin_val, htype, title_str)\n",
    "#         plot_height = clen // 2 + clen % 2\n",
    "#         fig = plt.figure(figsize=(graph_width,plot_height*5))\n",
    "#         for v1, v2, i in zip(quant_list, col1_vals, range(clen)):\n",
    "#             ax_list.append(fig.add_subplot(plot_height,2,i+1))\n",
    "#             #ax_list[-1].hist(v1, bins=bin_val, histtype=htype)\n",
    "#             n, bins, patches = hist(v1, bins='blocks', ax=ax_list[-1], \n",
    "#                                     histtype='stepfilled', alpha=0.2, density=True)\n",
    "#             ax_list[-1].set_title(title_str.format(col1_vals[i]))\n",
    "    elif plot_type == 'style_test':\n",
    "        pass\n",
    "    else:\n",
    "        fig, ax = plt.subplots(figsize=(graph_width,graph_width))\n",
    "        for v1, v2, i in zip(quant_list, col1_vals, range(clen)):\n",
    "            #n, bins, patches = ax.hist(v1, bins=bin_val, histtype=htype, alpha=.3)\n",
    "            hist(v1, bins='blocks', ax=ax, histtype='stepfilled',\n",
    "                 alpha=0.2, density=True)\n",
    "            q = [float(j) for j in v1]\n",
    "            mu, std = norm.fit(q)\n",
    "            y = norm.pdf(bins, mu, std)\n",
    "            l = ax.plot(bins, y*200, 'r--', linewidth=2)\n",
    "plot_df_hist(df,'species',['Droid','Human'])"
   ]
  },
  {
   "cell_type": "code",
   "execution_count": 67,
   "metadata": {},
   "outputs": [],
   "source": [
    "# plot_in_two_cols(df,'species',common_species, plot_type='single')\n",
    "\n"
   ]
  },
  {
   "cell_type": "code",
   "execution_count": null,
   "metadata": {},
   "outputs": [],
   "source": []
  },
  {
   "cell_type": "code",
   "execution_count": null,
   "metadata": {},
   "outputs": [],
   "source": []
  }
 ],
 "metadata": {
  "kernelspec": {
   "display_name": "Python 3",
   "language": "python",
   "name": "python3"
  },
  "language_info": {
   "codemirror_mode": {
    "name": "ipython",
    "version": 3
   },
   "file_extension": ".py",
   "mimetype": "text/x-python",
   "name": "python",
   "nbconvert_exporter": "python",
   "pygments_lexer": "ipython3",
   "version": "3.7.4"
  }
 },
 "nbformat": 4,
 "nbformat_minor": 2
}
