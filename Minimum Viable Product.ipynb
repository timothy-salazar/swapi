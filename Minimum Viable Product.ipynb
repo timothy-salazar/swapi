{
 "cells": [
  {
   "cell_type": "markdown",
   "metadata": {},
   "source": [
    "### Problem Overview\n",
    "\n",
    "As Star Wars data nerds, we have a few questions about the Universe. We don’t really like wikis, but we do love APIs, code, charts, and graphs!\n",
    "\n",
    "We’ve seen the Star Wars API (https://swapi.co), and its data seem useful. However, it leaves us with a few specific questions that we need answered in visual form:\n",
    "    1. It seems like there is quite a variety of heights in the Star Wars Universe. Show us the distribution of heights across gender, homeworld, and species.\n",
    "    2. The Original Trilogy and the Prequel Trilogy both featured men in leading roles and women in supporting roles, but the Sequel Trilogy features a leading woman. What is the distribution of genders across the films?\n",
    "    3. Back to our difficult-to-explain interest in heights: can you find and visualize a linear regression that clearly explains the height of an individual? \n",
    "    \n",
    "Using a programming language and/or framework of your choice, write a program that gives us insight into these questions. We like visualizations (e.g. charts and graphs), not tables or lists of numbers. If you have any other ideas, questions or insights from the data, we’d love o see those as well!"
   ]
  },
  {
   "cell_type": "code",
   "execution_count": 1,
   "metadata": {},
   "outputs": [],
   "source": [
    "# for accessing the API\n",
    "import requests \n",
    "import json \n",
    "import time\n",
    "# data wrangling\n",
    "import pandas as pd \n",
    "import numpy as np\n",
    "import os\n",
    "# graphing\n",
    "import matplotlib.pyplot as plt\n",
    "from scipy.stats import norm\n",
    "# model selection\n",
    "from sklearn.model_selection import train_test_split\n",
    "from sklearn.linear_model import LinearRegression\n",
    "# functions I've moved elsewhere\n",
    "from src.data_analysis import web_utilities\n",
    "from src.data_analysis import df_utilities\n",
    "\n",
    "%matplotlib inline "
   ]
  },
  {
   "cell_type": "markdown",
   "metadata": {},
   "source": [
    "## Navigating the API\n",
    "\n",
    "There are a few different ways to access the API. The resource types are:\n",
    " - Film, People, Planets, Species, Starships, and Vehicles\n",
    "\n",
    "Film will give us information about each film (title, opening crawl, director, etc.), people will give us information about a person within the Star Wars universe (name, height, eye color, etc.), and so on. Here it makes sense to focus on the \"people\" resource, since we're being asked very \"people-centric\" questions. \n",
    "\n",
    "As you can see below, this is a very nice API. If we make a request to the root \"People\" url, we're given a json object that contains:\n",
    "- count: the number of \"people\" resources\n",
    "- next: the url of the next chunk\n",
    "- previous: the url of the previous chunk\n",
    "- results: a json containing a list of dicts. Each dict contains information about one person"
   ]
  },
  {
   "cell_type": "code",
   "execution_count": 2,
   "metadata": {},
   "outputs": [
    {
     "name": "stdout",
     "output_type": "stream",
     "text": [
      "Visiting url: http://swapi.co/api/people/\n",
      "dict_keys(['count', 'next', 'previous', 'results']) \n",
      "\n",
      "Next: https://swapi.co/api/people/?page=2\n",
      "Previous: None\n",
      "Count: 87\n"
     ]
    }
   ],
   "source": [
    "url = 'http://swapi.co/api/people/'\n",
    "a = web_utilities.get_json(url)\n",
    "print(a.keys(),'\\n')\n",
    "print('Next: {}'.format(a['next']), \n",
    "      'Previous: {}'.format(a['previous']), \n",
    "      'Count: {}'.format(a['count']), sep='\\n')"
   ]
  },
  {
   "cell_type": "code",
   "execution_count": 3,
   "metadata": {},
   "outputs": [
    {
     "data": {
      "text/plain": [
       "[{'name': 'Luke Skywalker',\n",
       "  'height': '172',\n",
       "  'mass': '77',\n",
       "  'hair_color': 'blond',\n",
       "  'skin_color': 'fair',\n",
       "  'eye_color': 'blue',\n",
       "  'birth_year': '19BBY',\n",
       "  'gender': 'male',\n",
       "  'homeworld': 'https://swapi.co/api/planets/1/',\n",
       "  'films': ['https://swapi.co/api/films/2/',\n",
       "   'https://swapi.co/api/films/6/',\n",
       "   'https://swapi.co/api/films/3/',\n",
       "   'https://swapi.co/api/films/1/',\n",
       "   'https://swapi.co/api/films/7/'],\n",
       "  'species': ['https://swapi.co/api/species/1/'],\n",
       "  'vehicles': ['https://swapi.co/api/vehicles/14/',\n",
       "   'https://swapi.co/api/vehicles/30/'],\n",
       "  'starships': ['https://swapi.co/api/starships/12/',\n",
       "   'https://swapi.co/api/starships/22/'],\n",
       "  'created': '2014-12-09T13:50:51.644000Z',\n",
       "  'edited': '2014-12-20T21:17:56.891000Z',\n",
       "  'url': 'https://swapi.co/api/people/1/'},\n",
       " {'name': 'C-3PO',\n",
       "  'height': '167',\n",
       "  'mass': '75',\n",
       "  'hair_color': 'n/a',\n",
       "  'skin_color': 'gold',\n",
       "  'eye_color': 'yellow',\n",
       "  'birth_year': '112BBY',\n",
       "  'gender': 'n/a',\n",
       "  'homeworld': 'https://swapi.co/api/planets/1/',\n",
       "  'films': ['https://swapi.co/api/films/2/',\n",
       "   'https://swapi.co/api/films/5/',\n",
       "   'https://swapi.co/api/films/4/',\n",
       "   'https://swapi.co/api/films/6/',\n",
       "   'https://swapi.co/api/films/3/',\n",
       "   'https://swapi.co/api/films/1/'],\n",
       "  'species': ['https://swapi.co/api/species/2/'],\n",
       "  'vehicles': [],\n",
       "  'starships': [],\n",
       "  'created': '2014-12-10T15:10:51.357000Z',\n",
       "  'edited': '2014-12-20T21:17:50.309000Z',\n",
       "  'url': 'https://swapi.co/api/people/2/'},\n",
       " {'name': 'R2-D2',\n",
       "  'height': '96',\n",
       "  'mass': '32',\n",
       "  'hair_color': 'n/a',\n",
       "  'skin_color': 'white, blue',\n",
       "  'eye_color': 'red',\n",
       "  'birth_year': '33BBY',\n",
       "  'gender': 'n/a',\n",
       "  'homeworld': 'https://swapi.co/api/planets/8/',\n",
       "  'films': ['https://swapi.co/api/films/2/',\n",
       "   'https://swapi.co/api/films/5/',\n",
       "   'https://swapi.co/api/films/4/',\n",
       "   'https://swapi.co/api/films/6/',\n",
       "   'https://swapi.co/api/films/3/',\n",
       "   'https://swapi.co/api/films/1/',\n",
       "   'https://swapi.co/api/films/7/'],\n",
       "  'species': ['https://swapi.co/api/species/2/'],\n",
       "  'vehicles': [],\n",
       "  'starships': [],\n",
       "  'created': '2014-12-10T15:11:50.376000Z',\n",
       "  'edited': '2014-12-20T21:17:50.311000Z',\n",
       "  'url': 'https://swapi.co/api/people/3/'},\n",
       " {'name': 'Darth Vader',\n",
       "  'height': '202',\n",
       "  'mass': '136',\n",
       "  'hair_color': 'none',\n",
       "  'skin_color': 'white',\n",
       "  'eye_color': 'yellow',\n",
       "  'birth_year': '41.9BBY',\n",
       "  'gender': 'male',\n",
       "  'homeworld': 'https://swapi.co/api/planets/1/',\n",
       "  'films': ['https://swapi.co/api/films/2/',\n",
       "   'https://swapi.co/api/films/6/',\n",
       "   'https://swapi.co/api/films/3/',\n",
       "   'https://swapi.co/api/films/1/'],\n",
       "  'species': ['https://swapi.co/api/species/1/'],\n",
       "  'vehicles': [],\n",
       "  'starships': ['https://swapi.co/api/starships/13/'],\n",
       "  'created': '2014-12-10T15:18:20.704000Z',\n",
       "  'edited': '2014-12-20T21:17:50.313000Z',\n",
       "  'url': 'https://swapi.co/api/people/4/'},\n",
       " {'name': 'Leia Organa',\n",
       "  'height': '150',\n",
       "  'mass': '49',\n",
       "  'hair_color': 'brown',\n",
       "  'skin_color': 'light',\n",
       "  'eye_color': 'brown',\n",
       "  'birth_year': '19BBY',\n",
       "  'gender': 'female',\n",
       "  'homeworld': 'https://swapi.co/api/planets/2/',\n",
       "  'films': ['https://swapi.co/api/films/2/',\n",
       "   'https://swapi.co/api/films/6/',\n",
       "   'https://swapi.co/api/films/3/',\n",
       "   'https://swapi.co/api/films/1/',\n",
       "   'https://swapi.co/api/films/7/'],\n",
       "  'species': ['https://swapi.co/api/species/1/'],\n",
       "  'vehicles': ['https://swapi.co/api/vehicles/30/'],\n",
       "  'starships': [],\n",
       "  'created': '2014-12-10T15:20:09.791000Z',\n",
       "  'edited': '2014-12-20T21:17:50.315000Z',\n",
       "  'url': 'https://swapi.co/api/people/5/'},\n",
       " {'name': 'Owen Lars',\n",
       "  'height': '178',\n",
       "  'mass': '120',\n",
       "  'hair_color': 'brown, grey',\n",
       "  'skin_color': 'light',\n",
       "  'eye_color': 'blue',\n",
       "  'birth_year': '52BBY',\n",
       "  'gender': 'male',\n",
       "  'homeworld': 'https://swapi.co/api/planets/1/',\n",
       "  'films': ['https://swapi.co/api/films/5/',\n",
       "   'https://swapi.co/api/films/6/',\n",
       "   'https://swapi.co/api/films/1/'],\n",
       "  'species': ['https://swapi.co/api/species/1/'],\n",
       "  'vehicles': [],\n",
       "  'starships': [],\n",
       "  'created': '2014-12-10T15:52:14.024000Z',\n",
       "  'edited': '2014-12-20T21:17:50.317000Z',\n",
       "  'url': 'https://swapi.co/api/people/6/'},\n",
       " {'name': 'Beru Whitesun lars',\n",
       "  'height': '165',\n",
       "  'mass': '75',\n",
       "  'hair_color': 'brown',\n",
       "  'skin_color': 'light',\n",
       "  'eye_color': 'blue',\n",
       "  'birth_year': '47BBY',\n",
       "  'gender': 'female',\n",
       "  'homeworld': 'https://swapi.co/api/planets/1/',\n",
       "  'films': ['https://swapi.co/api/films/5/',\n",
       "   'https://swapi.co/api/films/6/',\n",
       "   'https://swapi.co/api/films/1/'],\n",
       "  'species': ['https://swapi.co/api/species/1/'],\n",
       "  'vehicles': [],\n",
       "  'starships': [],\n",
       "  'created': '2014-12-10T15:53:41.121000Z',\n",
       "  'edited': '2014-12-20T21:17:50.319000Z',\n",
       "  'url': 'https://swapi.co/api/people/7/'},\n",
       " {'name': 'R5-D4',\n",
       "  'height': '97',\n",
       "  'mass': '32',\n",
       "  'hair_color': 'n/a',\n",
       "  'skin_color': 'white, red',\n",
       "  'eye_color': 'red',\n",
       "  'birth_year': 'unknown',\n",
       "  'gender': 'n/a',\n",
       "  'homeworld': 'https://swapi.co/api/planets/1/',\n",
       "  'films': ['https://swapi.co/api/films/1/'],\n",
       "  'species': ['https://swapi.co/api/species/2/'],\n",
       "  'vehicles': [],\n",
       "  'starships': [],\n",
       "  'created': '2014-12-10T15:57:50.959000Z',\n",
       "  'edited': '2014-12-20T21:17:50.321000Z',\n",
       "  'url': 'https://swapi.co/api/people/8/'},\n",
       " {'name': 'Biggs Darklighter',\n",
       "  'height': '183',\n",
       "  'mass': '84',\n",
       "  'hair_color': 'black',\n",
       "  'skin_color': 'light',\n",
       "  'eye_color': 'brown',\n",
       "  'birth_year': '24BBY',\n",
       "  'gender': 'male',\n",
       "  'homeworld': 'https://swapi.co/api/planets/1/',\n",
       "  'films': ['https://swapi.co/api/films/1/'],\n",
       "  'species': ['https://swapi.co/api/species/1/'],\n",
       "  'vehicles': [],\n",
       "  'starships': ['https://swapi.co/api/starships/12/'],\n",
       "  'created': '2014-12-10T15:59:50.509000Z',\n",
       "  'edited': '2014-12-20T21:17:50.323000Z',\n",
       "  'url': 'https://swapi.co/api/people/9/'},\n",
       " {'name': 'Obi-Wan Kenobi',\n",
       "  'height': '182',\n",
       "  'mass': '77',\n",
       "  'hair_color': 'auburn, white',\n",
       "  'skin_color': 'fair',\n",
       "  'eye_color': 'blue-gray',\n",
       "  'birth_year': '57BBY',\n",
       "  'gender': 'male',\n",
       "  'homeworld': 'https://swapi.co/api/planets/20/',\n",
       "  'films': ['https://swapi.co/api/films/2/',\n",
       "   'https://swapi.co/api/films/5/',\n",
       "   'https://swapi.co/api/films/4/',\n",
       "   'https://swapi.co/api/films/6/',\n",
       "   'https://swapi.co/api/films/3/',\n",
       "   'https://swapi.co/api/films/1/'],\n",
       "  'species': ['https://swapi.co/api/species/1/'],\n",
       "  'vehicles': ['https://swapi.co/api/vehicles/38/'],\n",
       "  'starships': ['https://swapi.co/api/starships/48/',\n",
       "   'https://swapi.co/api/starships/59/',\n",
       "   'https://swapi.co/api/starships/64/',\n",
       "   'https://swapi.co/api/starships/65/',\n",
       "   'https://swapi.co/api/starships/74/'],\n",
       "  'created': '2014-12-10T16:16:29.192000Z',\n",
       "  'edited': '2014-12-20T21:17:50.325000Z',\n",
       "  'url': 'https://swapi.co/api/people/10/'}]"
      ]
     },
     "execution_count": 3,
     "metadata": {},
     "output_type": "execute_result"
    }
   ],
   "source": [
    "a['results']"
   ]
  },
  {
   "cell_type": "markdown",
   "metadata": {},
   "source": [
    "# People Attributes\n",
    "![people_attribute info](./assets/images/people_attributes.png)\n",
    "\n",
    "There are 87 people, so we can easily load all of the People data into memory. It would be nice to put these into a Pandas DataFrame, but the data will need to be wrangled a little bit first. We can drop \"url\", \"created\", and \"edited\". The \"films\", \"species\", \"starships\", and \"vehicles\" attributes are returned arrays, so we'll need to figure out some way to make these into valid columns. For \"films\" for example, we might have a column for each movie and a value of True or False for each row, indicating if the person was present or not. \n",
    "\n",
    "## Writing data to csv\n",
    "\n",
    "With a free resource like this API, it's courteous to make only the requests we need. Here I have a function that builds a dataframe, and then saves it to a .csv file for future use, so I don't need to query the API every time I rerun this notebook. There's also a built-in delay of a few seconds between requests."
   ]
  },
  {
   "cell_type": "code",
   "execution_count": 4,
   "metadata": {},
   "outputs": [
    {
     "name": "stdout",
     "output_type": "stream",
     "text": [
      "Dataframe loaded from .csv!\n"
     ]
    },
    {
     "data": {
      "text/html": [
       "<div>\n",
       "<style scoped>\n",
       "    .dataframe tbody tr th:only-of-type {\n",
       "        vertical-align: middle;\n",
       "    }\n",
       "\n",
       "    .dataframe tbody tr th {\n",
       "        vertical-align: top;\n",
       "    }\n",
       "\n",
       "    .dataframe thead th {\n",
       "        text-align: right;\n",
       "    }\n",
       "</style>\n",
       "<table border=\"1\" class=\"dataframe\">\n",
       "  <thead>\n",
       "    <tr style=\"text-align: right;\">\n",
       "      <th></th>\n",
       "      <th>name</th>\n",
       "      <th>birth_year</th>\n",
       "      <th>eye_color</th>\n",
       "      <th>gender</th>\n",
       "      <th>hair_color</th>\n",
       "      <th>height</th>\n",
       "      <th>mass</th>\n",
       "      <th>skin_color</th>\n",
       "      <th>homeworld</th>\n",
       "      <th>species</th>\n",
       "      <th>...</th>\n",
       "      <th>Slave 1</th>\n",
       "      <th>A-wing</th>\n",
       "      <th>Naboo Royal Starship</th>\n",
       "      <th>Scimitar</th>\n",
       "      <th>Sith speeder</th>\n",
       "      <th>Flitknot speeder</th>\n",
       "      <th>Koro-2 Exodrive airspeeder</th>\n",
       "      <th>Tsmeu-6 personal wheel bike</th>\n",
       "      <th>T-70 X-wing fighter</th>\n",
       "      <th>H-type Nubian yacht</th>\n",
       "    </tr>\n",
       "  </thead>\n",
       "  <tbody>\n",
       "    <tr>\n",
       "      <th>0</th>\n",
       "      <td>Luke Skywalker</td>\n",
       "      <td>-19.0</td>\n",
       "      <td>blue</td>\n",
       "      <td>male</td>\n",
       "      <td>blond</td>\n",
       "      <td>172.0</td>\n",
       "      <td>77</td>\n",
       "      <td>fair</td>\n",
       "      <td>Tatooine</td>\n",
       "      <td>Human</td>\n",
       "      <td>...</td>\n",
       "      <td>False</td>\n",
       "      <td>False</td>\n",
       "      <td>False</td>\n",
       "      <td>False</td>\n",
       "      <td>False</td>\n",
       "      <td>False</td>\n",
       "      <td>False</td>\n",
       "      <td>False</td>\n",
       "      <td>False</td>\n",
       "      <td>False</td>\n",
       "    </tr>\n",
       "    <tr>\n",
       "      <th>1</th>\n",
       "      <td>C-3PO</td>\n",
       "      <td>-112.0</td>\n",
       "      <td>yellow</td>\n",
       "      <td>no gender</td>\n",
       "      <td>no hair</td>\n",
       "      <td>167.0</td>\n",
       "      <td>75</td>\n",
       "      <td>gold</td>\n",
       "      <td>Tatooine</td>\n",
       "      <td>Droid</td>\n",
       "      <td>...</td>\n",
       "      <td>False</td>\n",
       "      <td>False</td>\n",
       "      <td>False</td>\n",
       "      <td>False</td>\n",
       "      <td>False</td>\n",
       "      <td>False</td>\n",
       "      <td>False</td>\n",
       "      <td>False</td>\n",
       "      <td>False</td>\n",
       "      <td>False</td>\n",
       "    </tr>\n",
       "    <tr>\n",
       "      <th>2</th>\n",
       "      <td>R2-D2</td>\n",
       "      <td>-33.0</td>\n",
       "      <td>red</td>\n",
       "      <td>no gender</td>\n",
       "      <td>no hair</td>\n",
       "      <td>96.0</td>\n",
       "      <td>32</td>\n",
       "      <td>white, blue</td>\n",
       "      <td>Naboo</td>\n",
       "      <td>Droid</td>\n",
       "      <td>...</td>\n",
       "      <td>False</td>\n",
       "      <td>False</td>\n",
       "      <td>False</td>\n",
       "      <td>False</td>\n",
       "      <td>False</td>\n",
       "      <td>False</td>\n",
       "      <td>False</td>\n",
       "      <td>False</td>\n",
       "      <td>False</td>\n",
       "      <td>False</td>\n",
       "    </tr>\n",
       "    <tr>\n",
       "      <th>3</th>\n",
       "      <td>Darth Vader</td>\n",
       "      <td>-41.9</td>\n",
       "      <td>yellow</td>\n",
       "      <td>male</td>\n",
       "      <td>none</td>\n",
       "      <td>202.0</td>\n",
       "      <td>136</td>\n",
       "      <td>white</td>\n",
       "      <td>Tatooine</td>\n",
       "      <td>Human</td>\n",
       "      <td>...</td>\n",
       "      <td>False</td>\n",
       "      <td>False</td>\n",
       "      <td>False</td>\n",
       "      <td>False</td>\n",
       "      <td>False</td>\n",
       "      <td>False</td>\n",
       "      <td>False</td>\n",
       "      <td>False</td>\n",
       "      <td>False</td>\n",
       "      <td>False</td>\n",
       "    </tr>\n",
       "    <tr>\n",
       "      <th>4</th>\n",
       "      <td>Leia Organa</td>\n",
       "      <td>-19.0</td>\n",
       "      <td>brown</td>\n",
       "      <td>female</td>\n",
       "      <td>brown</td>\n",
       "      <td>150.0</td>\n",
       "      <td>49</td>\n",
       "      <td>light</td>\n",
       "      <td>Alderaan</td>\n",
       "      <td>Human</td>\n",
       "      <td>...</td>\n",
       "      <td>False</td>\n",
       "      <td>False</td>\n",
       "      <td>False</td>\n",
       "      <td>False</td>\n",
       "      <td>False</td>\n",
       "      <td>False</td>\n",
       "      <td>False</td>\n",
       "      <td>False</td>\n",
       "      <td>False</td>\n",
       "      <td>False</td>\n",
       "    </tr>\n",
       "  </tbody>\n",
       "</table>\n",
       "<p>5 rows × 43 columns</p>\n",
       "</div>"
      ],
      "text/plain": [
       "             name  birth_year eye_color     gender hair_color  height mass  \\\n",
       "0  Luke Skywalker       -19.0      blue       male      blond   172.0   77   \n",
       "1           C-3PO      -112.0    yellow  no gender    no hair   167.0   75   \n",
       "2           R2-D2       -33.0       red  no gender    no hair    96.0   32   \n",
       "3     Darth Vader       -41.9    yellow       male       none   202.0  136   \n",
       "4     Leia Organa       -19.0     brown     female      brown   150.0   49   \n",
       "\n",
       "    skin_color homeworld species  ...  Slave 1  A-wing  Naboo Royal Starship  \\\n",
       "0         fair  Tatooine   Human  ...    False   False                 False   \n",
       "1         gold  Tatooine   Droid  ...    False   False                 False   \n",
       "2  white, blue     Naboo   Droid  ...    False   False                 False   \n",
       "3        white  Tatooine   Human  ...    False   False                 False   \n",
       "4        light  Alderaan   Human  ...    False   False                 False   \n",
       "\n",
       "   Scimitar  Sith speeder  Flitknot speeder  Koro-2 Exodrive airspeeder  \\\n",
       "0     False         False             False                       False   \n",
       "1     False         False             False                       False   \n",
       "2     False         False             False                       False   \n",
       "3     False         False             False                       False   \n",
       "4     False         False             False                       False   \n",
       "\n",
       "   Tsmeu-6 personal wheel bike  T-70 X-wing fighter  H-type Nubian yacht  \n",
       "0                        False                False                False  \n",
       "1                        False                False                False  \n",
       "2                        False                False                False  \n",
       "3                        False                False                False  \n",
       "4                        False                False                False  \n",
       "\n",
       "[5 rows x 43 columns]"
      ]
     },
     "execution_count": 4,
     "metadata": {},
     "output_type": "execute_result"
    }
   ],
   "source": [
    "if not os.path.exists('./assets/dataframe.csv'):\n",
    "    df = df_utilities.build_dataframe()\n",
    "    df = df_utilities.cleanup(df)\n",
    "    df.to_csv('./assets/dataframe.csv')\n",
    "else: \n",
    "    df = pd.read_csv('./assets/dataframe.csv', index_col = 0)\n",
    "    print(\"Dataframe loaded from .csv!\")\n",
    "df.head()"
   ]
  },
  {
   "cell_type": "markdown",
   "metadata": {},
   "source": [
    "# Data Visualization\n",
    "\n",
    "The data is now in a Pandas Dataframe. This gives us a lot of useful tools. We can take advantage of some of the things that make Numpy powerful (vectorization, broadcasting, etc), while gaining a lot of convenience (labeled columns, easier to deal with missing values, etc.). "
   ]
  },
  {
   "cell_type": "markdown",
   "metadata": {},
   "source": [
    "## Question 1\n",
    "\n",
    "It seems like there is quite a variety of heights in the Star Wars Universe. Show us the distribution of heights across gender, homeworld, and species.\n",
    "\n",
    "From a quick look at the data, we can see that there are 62 males, 19 females, and ~5 with no gender. That's a small enough sample size that we should probably just drop ignore those values."
   ]
  },
  {
   "cell_type": "code",
   "execution_count": 5,
   "metadata": {
    "scrolled": true
   },
   "outputs": [
    {
     "name": "stdout",
     "output_type": "stream",
     "text": [
      "gender                   counts                  |gender                   counts              \n",
      "------------------------------------------------------------------------\n",
      "male                     counts: 62              |none                     counts: 2           \n",
      "female                   counts: 19              |hermaphrodite            counts: 1           \n",
      "no gender                counts: 3               |NaN                      counts: 0           \n"
     ]
    }
   ],
   "source": [
    "from src.data_analysis.jupyter_functions import *\n",
    "\n",
    "print_unique_counts(df, 'gender')"
   ]
  },
  {
   "cell_type": "code",
   "execution_count": 6,
   "metadata": {},
   "outputs": [],
   "source": [
    "male_heights = df.height[get_height_mask(df, 'male')]\n",
    "female_heights = df.height[get_height_mask(df, 'female')]"
   ]
  },
  {
   "cell_type": "code",
   "execution_count": 7,
   "metadata": {
    "scrolled": false
   },
   "outputs": [
    {
     "data": {
      "image/png": "[encoded data removed]",
      "text/plain": [
       "<Figure size 864x360 with 2 Axes>"
      ]
     },
     "metadata": {
      "needs_background": "light"
     },
     "output_type": "display_data"
    }
   ],
   "source": [
    "fig = plt.figure(figsize=(12,5))\n",
    "ax = fig.add_subplot(121)\n",
    "ay = fig.add_subplot(122, sharey=ax, sharex=ax)\n",
    "male_heights.hist(bins = 18, ax=ax, density=True)\n",
    "female_heights.hist(bins = 11, ax=ay, density=True)\n",
    "ax.set_title('Male Heights')\n",
    "ay.set_title('Female Height')\n",
    "plt.show()"
   ]
  },
  {
   "cell_type": "code",
   "execution_count": 8,
   "metadata": {},
   "outputs": [],
   "source": [
    "fig.savefig('assets/images/height_vs_gender.jpg')"
   ]
  },
  {
   "cell_type": "markdown",
   "metadata": {},
   "source": [
    "## Heights across Homeworlds\n",
    "\n",
    "Looking at the data down below, there are a lot of worlds with only one datapoint. From the looks of things, we'll only be able to work with Naboo and Tatooine. At a stretch we might get something out of the worlds with three datapoints: Coruscant, Kamino, and Alderaan. Since the data visualization phase is purely for illustrative purposes, it can't hurt to throw them in."
   ]
  },
  {
   "cell_type": "code",
   "execution_count": 9,
   "metadata": {
    "scrolled": false
   },
   "outputs": [
    {
     "name": "stdout",
     "output_type": "stream",
     "text": [
      "homeworld                counts                  |homeworld                counts              \n",
      "------------------------------------------------------------------------\n",
      "Naboo                    counts: 11              |Champala                 counts: 1           \n",
      "unknown                  counts: 10              |Cerea                    counts: 1           \n",
      "Tatooine                 counts: 10              |Iktotch                  counts: 1           \n",
      "Coruscant                counts: 3               |Troiken                  counts: 1           \n",
      "Kamino                   counts: 3               |Kalee                    counts: 1           \n",
      "Alderaan                 counts: 3               |Trandosha                counts: 1           \n",
      "Mirial                   counts: 2               |Toydaria                 counts: 1           \n",
      "Ryloth                   counts: 2               |Tund                     counts: 1           \n",
      "Kashyyyk                 counts: 2               |Sullust                  counts: 1           \n",
      "Corellia                 counts: 2               |Stewjon                  counts: 1           \n",
      "Bestine IV               counts: 1               |Socorro                  counts: 1           \n",
      "Cato Neimoidia           counts: 1               |Skako                    counts: 1           \n",
      "Aleen Minor              counts: 1               |Shili                    counts: 1           \n",
      "Haruun Kal               counts: 1               |Serenno                  counts: 1           \n",
      "Glee Anselm              counts: 1               |Rodia                    counts: 1           \n",
      "Geonosis                 counts: 1               |Quermia                  counts: 1           \n",
      "Eriadu                   counts: 1               |Ojom                     counts: 1           \n",
      "Endor                    counts: 1               |Nal Hutta                counts: 1           \n",
      "Dorin                    counts: 1               |Umbara                   counts: 1           \n",
      "Dathomir                 counts: 1               |Muunilinst               counts: 1           \n",
      "Vulpter                  counts: 1               |Mon Cala                 counts: 1           \n",
      "Iridonia                 counts: 1               |Zolan                    counts: 1           \n",
      "Bespin                   counts: 1               |Malastare                counts: 1           \n",
      "Concord Dawn             counts: 1               |Utapau                   counts: 1           \n",
      "Chandrila                counts: 1               |NaN                      counts: 0           \n"
     ]
    },
    {
     "data": {
      "text/plain": [
       "array(['Alderaan', 'Coruscant', 'Kamino', 'Naboo', 'Tatooine', 'unknown'],\n",
       "      dtype=object)"
      ]
     },
     "execution_count": 9,
     "metadata": {},
     "output_type": "execute_result"
    }
   ],
   "source": [
    "print_unique_counts(df,'homeworld')\n",
    "worlds,world_counts = np.unique(df.homeworld, return_counts=True)\n",
    "populous_worlds = worlds[np.where(world_counts>2)]\n",
    "populous_worlds"
   ]
  },
  {
   "cell_type": "code",
   "execution_count": 10,
   "metadata": {},
   "outputs": [],
   "source": [
    "populous_worlds = list(populous_worlds)[:-1] + ['All Planets']"
   ]
  },
  {
   "cell_type": "code",
   "execution_count": 11,
   "metadata": {},
   "outputs": [
    {
     "data": {
      "image/png": "[encoded data removed]",
      "text/plain": [
       "<Figure size 864x1152 with 6 Axes>"
      ]
     },
     "metadata": {
      "needs_background": "light"
     },
     "output_type": "display_data"
    }
   ],
   "source": [
    "fig, ax_list = plt.subplots(3,2,sharex=True, sharey=True, figsize=(12,16))\n",
    "for i, ax in zip(range(len(populous_worlds)), ax_list.ravel()):\n",
    "    world=populous_worlds[i]\n",
    "    world_index = union_not_nan_mask(df, 'homeworld','height', world)\n",
    "    df.height[world_index].hist(bins='auto',ax=ax)\n",
    "    ax.set_title(world)\n",
    "fig.savefig('assets/images/height_vs_world.jpg')\n",
    "plt.show()"
   ]
  },
  {
   "cell_type": "markdown",
   "metadata": {},
   "source": [
    "### A little funky looking, but we can fix it up later."
   ]
  },
  {
   "cell_type": "code",
   "execution_count": 12,
   "metadata": {},
   "outputs": [
    {
     "data": {
      "text/plain": [
       "array([ 75., 100., 125., 150., 175., 200., 225., 250.])"
      ]
     },
     "execution_count": 12,
     "metadata": {},
     "output_type": "execute_result"
    }
   ],
   "source": [
    "np.linspace(75,250, 8)"
   ]
  },
  {
   "cell_type": "code",
   "execution_count": 13,
   "metadata": {},
   "outputs": [
    {
     "name": "stdout",
     "output_type": "stream",
     "text": [
      "species                  counts                  |species                  counts              \n",
      "------------------------------------------------------------------------\n",
      "Human                    counts: 35              |Ewok                     counts: 1           \n",
      "unknown                  counts: 5               |Muun                     counts: 1           \n",
      "Droid                    counts: 5               |Mon Calamari             counts: 1           \n",
      "Gungan                   counts: 3               |Togruta                  counts: 1           \n",
      "Kaminoan                 counts: 2               |Yoda's species           counts: 1           \n",
      "Mirialan                 counts: 2               |Xexto                    counts: 1           \n",
      "Zabrak                   counts: 2               |Vulptereen               counts: 1           \n",
      "Twi'lek                  counts: 2               |Trandoshan               counts: 1           \n",
      "Wookiee                  counts: 2               |Toydarian                counts: 1           \n",
      "Clawdite                 counts: 1               |Toong                    counts: 1           \n",
      "Dug                      counts: 1               |Tholothian               counts: 1           \n",
      "Chagrian                 counts: 1               |Nautolan                 counts: 1           \n",
      "Geonosian                counts: 1               |Sullustan                counts: 1           \n",
      "Cerean                   counts: 1               |Skakoan                  counts: 1           \n",
      "Hutt                     counts: 1               |Rodian                   counts: 1           \n",
      "Iktotchi                 counts: 1               |Quermian                 counts: 1           \n",
      "Kaleesh                  counts: 1               |Pau'an                   counts: 1           \n",
      "Besalisk                 counts: 1               |Neimodian                counts: 1           \n",
      "Kel Dor                  counts: 1               |Aleena                   counts: 1           \n",
      "NaN                      counts: 0           \n"
     ]
    }
   ],
   "source": [
    "print_unique_counts(df,'species')"
   ]
  },
  {
   "cell_type": "code",
   "execution_count": 14,
   "metadata": {},
   "outputs": [
    {
     "data": {
      "text/plain": [
       "['Droid', 'Gungan', 'Human', 'All Species']"
      ]
     },
     "execution_count": 14,
     "metadata": {},
     "output_type": "execute_result"
    }
   ],
   "source": [
    "species,species_count = get_unique_counts(df,'species')\n",
    "common_species = list(species[np.where(species_count>2)][:-1]) + ['All Species']\n",
    "common_species"
   ]
  },
  {
   "cell_type": "code",
   "execution_count": 15,
   "metadata": {},
   "outputs": [
    {
     "data": {
      "image/png": "[encoded data removed]",
      "text/plain": [
       "<Figure size 864x720 with 4 Axes>"
      ]
     },
     "metadata": {
      "needs_background": "light"
     },
     "output_type": "display_data"
    }
   ],
   "source": [
    "def make_basic_hists(df, col_list, x, y, w, h, f=(12,16)):\n",
    "    fig, ax_list = plt.subplots(w,h,sharex=True, sharey=True, figsize=f)\n",
    "    for i, ax in zip(range(len(col_list)), ax_list.ravel()):\n",
    "        row_label = col_list[i]\n",
    "        r_inx = union_not_nan_mask(df, x, y, row_label)\n",
    "        df[y][r_inx].hist(bins='auto',ax=ax)\n",
    "        ax.set_title(row_label)\n",
    "    fig.savefig('assets/images/height_vs_species.jpg')\n",
    "    plt.show()\n",
    "\n",
    "make_basic_hists(df, common_species, 'species', 'height', 2, 2, f=(12,10))"
   ]
  },
  {
   "cell_type": "markdown",
   "metadata": {},
   "source": [
    "Again: we can improve this a lot - but it's fine for now. \n",
    "\n",
    "# Question 2\n",
    "The Original Trilogy and the Prequel Trilogy both featured men in leading roles and women in supporting roles, but the Sequel Trilogy features a leading woman. What is the distribution of genders across the films?\n",
    "\n",
    "The api has 7 films. "
   ]
  },
  {
   "cell_type": "code",
   "execution_count": 16,
   "metadata": {},
   "outputs": [
    {
     "name": "stdout",
     "output_type": "stream",
     "text": [
      "A New Hope\n",
      "Attack of the Clones\n",
      "The Phantom Menace\n",
      "Revenge of the Sith\n",
      "Return of the Jedi\n",
      "The Empire Strikes Back\n",
      "The Force Awakens\n"
     ]
    }
   ],
   "source": [
    "print(*[i for i in web_utilities.url_to_val_dict('films',v=False).values()], sep='\\n')"
   ]
  },
  {
   "cell_type": "code",
   "execution_count": 17,
   "metadata": {},
   "outputs": [],
   "source": [
    "movie_cols = ['A New Hope','The Empire Strikes Back','Return of the Jedi', \n",
    "              'The Phantom Menace','Attack of the Clones', 'Revenge of the Sith', \n",
    "              'The Force Awakens']"
   ]
  },
  {
   "cell_type": "code",
   "execution_count": 18,
   "metadata": {},
   "outputs": [
    {
     "data": {
      "text/plain": [
       "[12, 2, 3]"
      ]
     },
     "execution_count": 18,
     "metadata": {},
     "output_type": "execute_result"
    }
   ],
   "source": [
    "def get_gender_count(s):\n",
    "    return [np.where(s == i)[0].shape[0] for i in ['male','female','no gender']]\n",
    "\n",
    "i = movie_cols[0]\n",
    "movie_mask =df[i]\n",
    "s = df[movie_mask]['gender']\n",
    "get_gender_count(s)"
   ]
  },
  {
   "cell_type": "code",
   "execution_count": 19,
   "metadata": {},
   "outputs": [
    {
     "data": {
      "image/png": "[encoded data removed]",
      "text/plain": [
       "<Figure size 720x1152 with 7 Axes>"
      ]
     },
     "metadata": {
      "needs_background": "light"
     },
     "output_type": "display_data"
    }
   ],
   "source": [
    "def get_gender_count(s):\n",
    "    return [np.where(s == i)[0].shape[0] for i in ['male','female','no gender']]\n",
    "\n",
    "movie_cols = ['A New Hope','The Empire Strikes Back','Return of the Jedi', \n",
    "              'The Phantom Menace','Attack of the Clones', 'Revenge of the Sith', \n",
    "              'The Force Awakens']\n",
    "fig = plt.figure(figsize = (10,16))\n",
    "ax = []\n",
    "labels = ['male','female','no gender']\n",
    "no_gender_count = 0\n",
    "for v, i in enumerate(movie_cols):\n",
    "    movie_mask = df[i]\n",
    "    s = df[movie_mask]['gender']\n",
    "    h = get_gender_count(s)\n",
    "    ax.append(fig.add_subplot(4,2,v+1))\n",
    "    ax[-1].bar(np.linspace(1,3,3), h, tick_label=labels)\n",
    "    ax[-1].set_title(i)\n",
    "    no_gender_count += h[2]\n",
    "fig.tight_layout()\n",
    "fig.savefig('assets/images/movie_vs_gender.jpg')"
   ]
  },
  {
   "cell_type": "markdown",
   "metadata": {},
   "source": [
    "# Question 3 \n",
    "Back to our difficult-to-explain interest in heights: can you find and visualize a linear regression that clearly explains the height of an individual? \n",
    "\n",
    "# Linear Regression\n",
    "A lot of people sneer at linear regression because it isn't as shiny as the newer, more complicated models that are available. But linear regression has a lot of advantages, and it's often the best model for a problem.\n",
    "- It's interpretable - an advantage that many more complicated models, such as neural networks, lack\n",
    "- It's simple, which means it's easy to get up and running quickly\n",
    "\n",
    "Linear regression has relatively high bias and low variance, which means that it's a little bit harder to overfit than some more complicated models. There is a limit though - and each variable that we add to our model will make it easier to overfit. It's probably a good idea to use just a few of these columns to fit our model. \n",
    "\n",
    "Additionally, we need to put our data into a form that our linear regression can \"understand\". If we want to use columns that have non-numerical values, first we'll need to transform them into numbers.\n",
    "\n",
    "# Feature Engineering\n",
    "\"birth_year\" and \"mass\" are the only variables that are are numerical. We'll need to transform the rest of our data to make it fit \n",
    "- eye_color - maybe I'll do \"brown or blue\" and \"other\"\n",
    "- gender - the \"Gender Across Films\" graph above is a bit deceptive, since the same droids tend to appear across a lot of films. I'll do \"male\" and \"female\"\n",
    "- hair_color - I'll make this \"bald\" and \"not_bald\"\n",
    "- mass - this is fine (target leakage aside)\n",
    "- skin_color - I'll say that everything that isn't \"fair\",\"light\",\"dark\" is an unusual skin color\n",
    "- homeworld - skiping this one\n",
    "- species - human and other\n"
   ]
  },
  {
   "cell_type": "code",
   "execution_count": 20,
   "metadata": {},
   "outputs": [
    {
     "name": "stdout",
     "output_type": "stream",
     "text": [
      "birth_year          counts             |birth_year          counts         \n",
      "------------------------------------------------------------------------\n",
      "-52.0               counts: 2          |-57.0               counts: 1      \n",
      "-92.0               counts: 2          |-8.0                counts: 1      \n",
      "-48.0               counts: 2          |-53.0               counts: 1      \n",
      "-41.9               counts: 2          |-15.0               counts: 1      \n",
      "-72.0               counts: 2          |-47.0               counts: 1      \n",
      "-82.0               counts: 2          |-46.0               counts: 1      \n",
      "-19.0               counts: 2          |-44.0               counts: 1      \n",
      "-102.0              counts: 1          |-41.0               counts: 1      \n",
      "-112.0              counts: 1          |-40.0               counts: 1      \n",
      "-91.0               counts: 1          |-37.0               counts: 1      \n",
      "-54.0               counts: 1          |-33.0               counts: 1      \n",
      "-200.0              counts: 1          |-31.5               counts: 1      \n",
      "-67.0               counts: 1          |-31.0               counts: 1      \n",
      "-66.0               counts: 1          |-29.0               counts: 1      \n",
      "-600.0              counts: 1          |-24.0               counts: 1      \n",
      "-64.0               counts: 1          |-22.0               counts: 1      \n",
      "-62.0               counts: 1          |-21.0               counts: 1      \n",
      "-58.0               counts: 1          |-896.0              counts: 1      \n",
      "NaN                 counts: 44     \n",
      "\n",
      "eye_color           counts             |eye_color           counts         \n",
      "------------------------------------------------------------------------\n",
      "brown               counts: 21         |white               counts: 1      \n",
      "blue                counts: 19         |red, blue           counts: 1      \n",
      "yellow              counts: 11         |pink                counts: 1      \n",
      "black               counts: 10         |green, yellow       counts: 1      \n",
      "orange              counts: 8          |gold                counts: 1      \n",
      "red                 counts: 5          |dark                counts: 1      \n",
      "unknown             counts: 3          |blue-gray           counts: 1      \n",
      "hazel               counts: 3          |NaN                 counts: 0      \n",
      "\n",
      "gender              counts             |gender              counts         \n",
      "------------------------------------------------------------------------\n",
      "male                counts: 62         |none                counts: 2      \n",
      "female              counts: 19         |hermaphrodite       counts: 1      \n",
      "no gender           counts: 3          |NaN                 counts: 0      \n",
      "\n",
      "hair_color          counts             |hair_color          counts         \n",
      "------------------------------------------------------------------------\n",
      "none                counts: 37         |grey                counts: 1      \n",
      "brown               counts: 18         |brown, grey         counts: 1      \n",
      "black               counts: 13         |blonde              counts: 1      \n",
      "no hair             counts: 5          |auburn, white       counts: 1      \n",
      "white               counts: 4          |auburn, grey        counts: 1      \n",
      "blond               counts: 3          |auburn              counts: 1      \n",
      "unknown             counts: 1          |NaN                 counts: 0      \n",
      "\n",
      "mass                counts             |mass                counts         \n",
      "------------------------------------------------------------------------\n",
      "80                  counts: 6          |20                  counts: 1      \n",
      "79                  counts: 4          |110                 counts: 1      \n",
      "77                  counts: 3          |102                 counts: 1      \n",
      "84                  counts: 3          |40                  counts: 1      \n",
      "75                  counts: 3          |90                  counts: 1      \n",
      "50                  counts: 2          |49                  counts: 1      \n",
      "32                  counts: 2          |89                  counts: 1      \n",
      "136                 counts: 2          |56.2                counts: 1      \n",
      "45                  counts: 2          |57                  counts: 1      \n",
      "55                  counts: 2          |65                  counts: 1      \n",
      "82                  counts: 2          |66                  counts: 1      \n",
      "48                  counts: 2          |68                  counts: 1      \n",
      "120                 counts: 1          |74                  counts: 1      \n",
      "113                 counts: 1          |78.2                counts: 1      \n",
      "112                 counts: 1          |83                  counts: 1      \n",
      "140                 counts: 1          |85                  counts: 1      \n",
      "15                  counts: 1          |87                  counts: 1      \n",
      "159                 counts: 1          |88                  counts: 1      \n",
      "17                  counts: 1          |1,358               counts: 1      \n",
      "NaN                 counts: 28     \n",
      "\n",
      "skin_color          counts             |skin_color          counts         \n",
      "------------------------------------------------------------------------\n",
      "fair                counts: 17         |gold                counts: 1      \n",
      "light               counts: 11         |brown mottle        counts: 1      \n",
      "dark                counts: 6          |brown, white        counts: 1      \n",
      "green               counts: 6          |silver, red         counts: 1      \n",
      "grey                counts: 6          |fair, green, ye     counts: 1      \n",
      "pale                counts: 5          |red, blue, whit     counts: 1      \n",
      "brown               counts: 4          |mottled green       counts: 1      \n",
      "yellow              counts: 2          |green, grey         counts: 1      \n",
      "blue, grey          counts: 2          |green-tan, brow     counts: 1      \n",
      "blue                counts: 2          |red                 counts: 1      \n",
      "white, blue         counts: 2          |grey, blue          counts: 1      \n",
      "orange              counts: 2          |white, red          counts: 1      \n",
      "white               counts: 2          |grey, red           counts: 1      \n",
      "tan                 counts: 2          |metal               counts: 1      \n",
      "none                counts: 1          |grey, green, ye     counts: 1      \n",
      "NaN                 counts: 2      \n",
      "\n",
      "homeworld           counts             |homeworld           counts         \n",
      "------------------------------------------------------------------------\n",
      "Naboo               counts: 11         |Champala            counts: 1      \n",
      "unknown             counts: 10         |Cerea               counts: 1      \n",
      "Tatooine            counts: 10         |Iktotch             counts: 1      \n",
      "Coruscant           counts: 3          |Troiken             counts: 1      \n",
      "Kamino              counts: 3          |Kalee               counts: 1      \n",
      "Alderaan            counts: 3          |Trandosha           counts: 1      \n",
      "Mirial              counts: 2          |Toydaria            counts: 1      \n",
      "Ryloth              counts: 2          |Tund                counts: 1      \n",
      "Kashyyyk            counts: 2          |Sullust             counts: 1      \n",
      "Corellia            counts: 2          |Stewjon             counts: 1      \n",
      "Bestine IV          counts: 1          |Socorro             counts: 1      \n",
      "Cato Neimoidia      counts: 1          |Skako               counts: 1      \n",
      "Aleen Minor         counts: 1          |Shili               counts: 1      \n",
      "Haruun Kal          counts: 1          |Serenno             counts: 1      \n",
      "Glee Anselm         counts: 1          |Rodia               counts: 1      \n",
      "Geonosis            counts: 1          |Quermia             counts: 1      \n",
      "Eriadu              counts: 1          |Ojom                counts: 1      \n",
      "Endor               counts: 1          |Nal Hutta           counts: 1      \n",
      "Dorin               counts: 1          |Umbara              counts: 1      \n",
      "Dathomir            counts: 1          |Muunilinst          counts: 1      \n",
      "Vulpter             counts: 1          |Mon Cala            counts: 1      \n",
      "Iridonia            counts: 1          |Zolan               counts: 1      \n",
      "Bespin              counts: 1          |Malastare           counts: 1      \n",
      "Concord Dawn        counts: 1          |Utapau              counts: 1      \n",
      "Chandrila           counts: 1          |NaN                 counts: 0      \n",
      "\n",
      "species             counts             |species             counts         \n",
      "------------------------------------------------------------------------\n",
      "Human               counts: 35         |Ewok                counts: 1      \n",
      "unknown             counts: 5          |Muun                counts: 1      \n",
      "Droid               counts: 5          |Mon Calamari        counts: 1      \n",
      "Gungan              counts: 3          |Togruta             counts: 1      \n",
      "Kaminoan            counts: 2          |Yoda's species      counts: 1      \n",
      "Mirialan            counts: 2          |Xexto               counts: 1      \n",
      "Zabrak              counts: 2          |Vulptereen          counts: 1      \n",
      "Twi'lek             counts: 2          |Trandoshan          counts: 1      \n",
      "Wookiee             counts: 2          |Toydarian           counts: 1      \n",
      "Clawdite            counts: 1          |Toong               counts: 1      \n",
      "Dug                 counts: 1          |Tholothian          counts: 1      \n",
      "Chagrian            counts: 1          |Nautolan            counts: 1      \n",
      "Geonosian           counts: 1          |Sullustan           counts: 1      \n",
      "Cerean              counts: 1          |Skakoan             counts: 1      \n",
      "Hutt                counts: 1          |Rodian              counts: 1      \n",
      "Iktotchi            counts: 1          |Quermian            counts: 1      \n",
      "Kaleesh             counts: 1          |Pau'an              counts: 1      \n",
      "Besalisk            counts: 1          |Neimodian           counts: 1      \n",
      "Kel Dor             counts: 1          |Aleena              counts: 1      \n",
      "NaN                 counts: 0      \n",
      "\n"
     ]
    }
   ],
   "source": [
    "x_cols = ['birth_year', 'eye_color', 'gender', 'hair_color', 'mass',\n",
    "          'skin_color', 'homeworld', 'species']\n",
    "for i in x_cols:\n",
    "    print_unique_counts(df, i, w=20)\n",
    "    print('')"
   ]
  },
  {
   "cell_type": "code",
   "execution_count": 21,
   "metadata": {},
   "outputs": [],
   "source": [
    "def make_test_frame(df):\n",
    "    lin_cols = ['height','birth_year','eyes_brown_blue','is_female',\n",
    "                'is_bald','mass','is_human']\n",
    "    df_x = pd.DataFrame(columns=lin_cols)\n",
    "    df_x['height'] = df.height.copy()\n",
    "    df_x['birth_year'] = df.birth_year.copy()\n",
    "    df_x['mass'] = df.mass.copy()\n",
    "    df_x['is_female'] = [i=='female' if i in ['male','female'] \\\n",
    "                         else np.nan for i in df.gender]\n",
    "    df_x['is_bald'] = [True if i in ['none','no hair'] \\\n",
    "                       else False for i in df.hair_color]\n",
    "    df_x['unusual_skin_color'] = [True if i not in ['fair','light', 'dark'] \\\n",
    "                                  else False for i in df.skin_color] \n",
    "    df_x['is_human'] = [i == 'Human' for i in df.species]\n",
    "    df_x['eyes_brown_blue'] = [True if i in ['brown','blue'] \\\n",
    "                               else False for i in df.eye_color]\n",
    "    return df_x"
   ]
  },
  {
   "cell_type": "markdown",
   "metadata": {},
   "source": [
    "## Run 1\n",
    "We can't perform a linear regression if we have missing values. There are a lot of ways to handle these - but the simplest is just to drop all the rows with NaNs. We'll try something fancier later if we have time."
   ]
  },
  {
   "cell_type": "code",
   "execution_count": 22,
   "metadata": {},
   "outputs": [
    {
     "name": "stdout",
     "output_type": "stream",
     "text": [
      "(32, 7) (32,)\n"
     ]
    },
    {
     "data": {
      "text/html": [
       "<div>\n",
       "<style scoped>\n",
       "    .dataframe tbody tr th:only-of-type {\n",
       "        vertical-align: middle;\n",
       "    }\n",
       "\n",
       "    .dataframe tbody tr th {\n",
       "        vertical-align: top;\n",
       "    }\n",
       "\n",
       "    .dataframe thead th {\n",
       "        text-align: right;\n",
       "    }\n",
       "</style>\n",
       "<table border=\"1\" class=\"dataframe\">\n",
       "  <thead>\n",
       "    <tr style=\"text-align: right;\">\n",
       "      <th></th>\n",
       "      <th>birth_year</th>\n",
       "      <th>eyes_brown_blue</th>\n",
       "      <th>is_female</th>\n",
       "      <th>is_bald</th>\n",
       "      <th>mass</th>\n",
       "      <th>is_human</th>\n",
       "      <th>unusual_skin_color</th>\n",
       "    </tr>\n",
       "  </thead>\n",
       "  <tbody>\n",
       "    <tr>\n",
       "      <th>0</th>\n",
       "      <td>-19.0</td>\n",
       "      <td>True</td>\n",
       "      <td>False</td>\n",
       "      <td>False</td>\n",
       "      <td>77</td>\n",
       "      <td>True</td>\n",
       "      <td>False</td>\n",
       "    </tr>\n",
       "    <tr>\n",
       "      <th>3</th>\n",
       "      <td>-41.9</td>\n",
       "      <td>False</td>\n",
       "      <td>False</td>\n",
       "      <td>True</td>\n",
       "      <td>136</td>\n",
       "      <td>True</td>\n",
       "      <td>True</td>\n",
       "    </tr>\n",
       "    <tr>\n",
       "      <th>4</th>\n",
       "      <td>-19.0</td>\n",
       "      <td>True</td>\n",
       "      <td>True</td>\n",
       "      <td>False</td>\n",
       "      <td>49</td>\n",
       "      <td>True</td>\n",
       "      <td>False</td>\n",
       "    </tr>\n",
       "    <tr>\n",
       "      <th>5</th>\n",
       "      <td>-52.0</td>\n",
       "      <td>True</td>\n",
       "      <td>False</td>\n",
       "      <td>False</td>\n",
       "      <td>120</td>\n",
       "      <td>True</td>\n",
       "      <td>False</td>\n",
       "    </tr>\n",
       "    <tr>\n",
       "      <th>6</th>\n",
       "      <td>-47.0</td>\n",
       "      <td>True</td>\n",
       "      <td>True</td>\n",
       "      <td>False</td>\n",
       "      <td>75</td>\n",
       "      <td>True</td>\n",
       "      <td>False</td>\n",
       "    </tr>\n",
       "  </tbody>\n",
       "</table>\n",
       "</div>"
      ],
      "text/plain": [
       "   birth_year  eyes_brown_blue is_female  is_bald mass  is_human  \\\n",
       "0       -19.0             True     False    False   77      True   \n",
       "3       -41.9            False     False     True  136      True   \n",
       "4       -19.0             True      True    False   49      True   \n",
       "5       -52.0             True     False    False  120      True   \n",
       "6       -47.0             True      True    False   75      True   \n",
       "\n",
       "   unusual_skin_color  \n",
       "0               False  \n",
       "3                True  \n",
       "4               False  \n",
       "5               False  \n",
       "6               False  "
      ]
     },
     "execution_count": 22,
     "metadata": {},
     "output_type": "execute_result"
    }
   ],
   "source": [
    "df_x = make_test_frame(df)\n",
    "df_x = df_x.dropna()\n",
    "np.random.seed(1337)    # it's important to set the seed for reproducability \n",
    "                        # and to keep from just rerunning with different parameters\n",
    "                        # until a \"good score\" is reached\n",
    "if 'height' in df_x.columns:\n",
    "    y = df_x.pop('height')\n",
    "x_train, x_test, y_train, y_test = train_test_split(df_x, y)\n",
    "reg = LinearRegression().fit(x_train, y_train)\n",
    "y_pred = reg.predict(x_test)\n",
    "print(df_x.shape,y.shape)\n",
    "df_x.head()"
   ]
  },
  {
   "cell_type": "markdown",
   "metadata": {},
   "source": [
    "## Run 1 Results\n",
    "\n",
    "For context, the R^2 score is: \n",
    "\n",
    "```(TSS (total sum of squares) - RSS (residual sum of squares)) / TSS```\n",
    "\n",
    "A model that just guessed the average and disregarded the inputs would have an R^2 of 0, and the best possible model would be an R^2 of 1. A negative number means we're doing worse than if we just guessed the average.\n",
    "\n",
    "That makes sense when we consider the small sample size (24 to train on, 8 for our test). We should see what we can do to drop fewer rows."
   ]
  },
  {
   "cell_type": "code",
   "execution_count": 23,
   "metadata": {},
   "outputs": [
    {
     "data": {
      "text/plain": [
       "(-2.256947525171047, 24, 8)"
      ]
     },
     "execution_count": 23,
     "metadata": {},
     "output_type": "execute_result"
    }
   ],
   "source": [
    "reg.score(x_test, y_test), len(x_train), len(x_test)"
   ]
  },
  {
   "cell_type": "code",
   "execution_count": 24,
   "metadata": {},
   "outputs": [
    {
     "name": "stdout",
     "output_type": "stream",
     "text": [
      "birth_year           0.05\n",
      "eyes_brown_blue      -3.3\n",
      "is_female            15.65\n",
      "is_bald              -1.46\n",
      "mass                 1.06\n",
      "is_human             -19.52\n",
      "unusual_skin_color   -14.12\n"
     ]
    }
   ],
   "source": [
    "for i,j in zip(reg.coef_, df_x.columns):\n",
    "    print(j.ljust(20),i.round(2))"
   ]
  },
  {
   "cell_type": "markdown",
   "metadata": {},
   "source": [
    "For this model, \"is_human\", \"unusual_skin_color\", and \"is_female\" are the most significant factors"
   ]
  },
  {
   "cell_type": "markdown",
   "metadata": {},
   "source": [
    "## Run 2\n",
    "\n",
    "There are 44 entries that contain NaNs in the \"birth_years\" column. By dropping this column we can hold on to a lot more of our rows, and probably get better results."
   ]
  },
  {
   "cell_type": "code",
   "execution_count": 25,
   "metadata": {},
   "outputs": [
    {
     "name": "stdout",
     "output_type": "stream",
     "text": [
      "(54, 7)\n"
     ]
    }
   ],
   "source": [
    "df_x = make_test_frame(df)\n",
    "if 'birth_year' in df_x.columns: df_x = df_x.drop('birth_year',axis=1)\n",
    "df_x = df_x.dropna()\n",
    "print(df_x.shape)\n",
    "if 'height' in df_x.columns: y = df_x.pop('height')\n",
    "x_train, x_test, y_train, y_test = train_test_split(df_x, y)\n",
    "reg = LinearRegression().fit(x_train, y_train)"
   ]
  },
  {
   "cell_type": "markdown",
   "metadata": {},
   "source": [
    "## Run 2 Results \n",
    "\n",
    "This is already a lot better. By getting rid of the troublesome column, we've increased our sample size and improved our score immensely. "
   ]
  },
  {
   "cell_type": "code",
   "execution_count": 26,
   "metadata": {},
   "outputs": [
    {
     "data": {
      "text/plain": [
       "(0.7929901233325982, 40, 14)"
      ]
     },
     "execution_count": 26,
     "metadata": {},
     "output_type": "execute_result"
    }
   ],
   "source": [
    "reg.score(x_test, y_test), len(x_train), len(x_test)"
   ]
  },
  {
   "cell_type": "code",
   "execution_count": 27,
   "metadata": {},
   "outputs": [
    {
     "name": "stdout",
     "output_type": "stream",
     "text": [
      "eyes_brown_blue      -6.91\n",
      "is_female            21.35\n",
      "is_bald              4.71\n",
      "mass                 1.0\n",
      "is_human             -7.88\n",
      "unusual_skin_color   -13.8\n"
     ]
    }
   ],
   "source": [
    "for i,j in zip(reg.coef_, df_x.columns):\n",
    "    print(j.ljust(20),i.round(2))"
   ]
  },
  {
   "cell_type": "markdown",
   "metadata": {},
   "source": [
    "# Run 3\n",
    "Let's try dropping mass just to see what that does..."
   ]
  },
  {
   "cell_type": "code",
   "execution_count": 28,
   "metadata": {},
   "outputs": [
    {
     "name": "stdout",
     "output_type": "stream",
     "text": [
      "(76, 6)\n"
     ]
    }
   ],
   "source": [
    "df_x = make_test_frame(df)\n",
    "if 'birth_year' in df_x.columns: df_x = df_x.drop('birth_year',axis=1)\n",
    "if 'mass' in df_x.columns: df_x = df_x.drop('mass',axis=1)\n",
    "df_x = df_x.dropna()\n",
    "print(df_x.shape)\n",
    "if 'height' in df_x.columns: y = df_x.pop('height')\n",
    "x_train, x_test, y_train, y_test = train_test_split(df_x, y)\n",
    "reg = LinearRegression().fit(x_train, y_train)"
   ]
  },
  {
   "cell_type": "code",
   "execution_count": 29,
   "metadata": {},
   "outputs": [
    {
     "data": {
      "text/plain": [
       "(-0.04772383887914344, 57, 19)"
      ]
     },
     "execution_count": 29,
     "metadata": {},
     "output_type": "execute_result"
    }
   ],
   "source": [
    "reg.score(x_test, y_test), len(x_train), len(x_test)"
   ]
  },
  {
   "cell_type": "code",
   "execution_count": null,
   "metadata": {},
   "outputs": [],
   "source": []
  }
 ],
 "metadata": {
  "kernelspec": {
   "display_name": "Python 3",
   "language": "python",
   "name": "python3"
  },
  "language_info": {
   "codemirror_mode": {
    "name": "ipython",
    "version": 3
   },
   "file_extension": ".py",
   "mimetype": "text/x-python",
   "name": "python",
   "nbconvert_exporter": "python",
   "pygments_lexer": "ipython3",
   "version": "3.7.4"
  }
 },
 "nbformat": 4,
 "nbformat_minor": 2
}
